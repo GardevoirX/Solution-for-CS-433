{
 "cells": [
  {
   "cell_type": "markdown",
   "metadata": {
    "id": "Bk6znTnboD5e"
   },
   "source": [
    "# Training GPT to do Multiplication\n",
    "The goal of this exercise is for you to get more familiar with transformers and and GPT. We will focus on a much simpler task than language modelling that can be trained in a few minutes. Specifically we will train a small GPT model from scratch to perform multiplications. We will use indidual characters as tokens. Doing multiplications directly for example in the form: \\\\\n",
    "\"12\\*34=\" -> \"408\" \\\\\n",
    "can be challenging. Even large language models are often not able to do this accurately for moderately large numbers, say 5 digits (although it is possible using [special tricks](https://arxiv.org/abs/2311.14737)).\n",
    "\n",
    "For large numbers predicting the first digit directly without any \"intermediate\" steps becomes hard. We will therefore consider training it do perform these intermediate steps explicitly, for example: \\\\\n",
    "\"12\\*34\" -> \"68\\[68\\]+340\\[408\\]=408\" \\\\\n",
    "where we compute the products of digits in the first number with the second number and then sum them up in the brackets, i.e. 68=2\\*34, 340=10\\*34, 0+68=68 and 68+340=408.\n",
    "\n",
    "This only requires a much simpler transformation at each step (corresponding to the generation of one output token) making it easier to learn and perform accurately. A similar idea is used in [\"chain-of-thought\" prompting](https://arxiv.org/abs/2201.11903) in large language models. They often perform much better if you ask them to \"think step by step\".\n",
    "\n",
    "One final thing we can do to make the task even easier is to write the numbers backwards during the intermediate steps. This is because comptuting the digits from left-to-right is significantly harder than computing them right-to-left for additions particulary but also multiplication."
   ]
  },
  {
   "cell_type": "markdown",
   "metadata": {
    "id": "2fsQ-wq1xZFE"
   },
   "source": [
    "# Part 1: Data Creation\n",
    "This part contains the functions involved in the dataset creation. The pipline is as follows:\n",
    "* We generate random number pairs and split them into a train and validation set (generate_dataset).\n",
    "* For each pair of numbers we create a string showing the multiplication of the two numbers, potentially involving intermediate steps. For example (12,34) could get mapped to \"12\\*34=408\" or \"12\\*34=68\\[68\\]+340\\[408\\]=408\".\n",
    "* The strings are padded with spaces to all have a given length. Note that this is typically not done in standard next token prediction on language, but simplifies the training proceedure in this case.\n",
    "* The strings are tokenized, mapping them to arrays of indices (integers). In this case we use one token for each character so the main difference is that all the token indices are in an interval going from zero to the vocabulary size.\n",
    "\n",
    "You need to fill in missing details in two fuctions:\n",
    "* generate_mul_sequence\n",
    "* tokenize\n"
   ]
  },
  {
   "cell_type": "code",
   "execution_count": 10,
   "metadata": {
    "id": "olCP4HQLkG_Y"
   },
   "outputs": [],
   "source": [
    "import random\n",
    "import itertools\n",
    "import numpy as np\n",
    "\n",
    "\n",
    "def generate_mul_seq(a, b, max_digits=3, sum_cot=False, reverse_cot=False):\n",
    "    \"\"\"\n",
    "    This function takes in two integers and returns a string representing their\n",
    "    multiplication and result, optionally with intermediate steps.\n",
    "\n",
    "    >>> generate_mul_seq(867, 821, max_digits=3, sum_cot=False, reverse_cot=False)\n",
    "    '867*821=711807'\n",
    "    >>> generate_mul_seq(386, 273, max_digits=3, sum_cot=False, reverse_cot=True)\n",
    "    '386*273=873501=105378'\n",
    "    >>> generate_mul_seq(507, 779, max_digits=3, sum_cot=True, reverse_cot=False)\n",
    "    '507*779=5453[5453]+0[5453]+389500[394953]=394953'\n",
    "    >>> generate_mul_seq(807, 214, max_digits=3, sum_cot=True, reverse_cot=True)\n",
    "    '807*214=8941[8941]+0[8941]+002171[896271]=172698'\n",
    "    \"\"\"\n",
    "    prompt = f\"{a}*{b}=\"\n",
    "    prompt = \" \" * (2 * max_digits + 2 - len(prompt)) + prompt\n",
    "    if not sum_cot:\n",
    "        if not reverse_cot:\n",
    "            # No COT e.g. \"12*34=408\"\n",
    "            return prompt + f\"{a*b}\"\n",
    "        else:\n",
    "            # Reversed intermediate result e.g. \"12*34=804=408\"\n",
    "            return prompt + f\"{str(a*b)[::-1]}=\" + f\"{a*b}\"\n",
    "\n",
    "    # ***************************************************\n",
    "    # INSERT YOUR CODE HERE\n",
    "    # TODO: Return a stringmax_digits\n",
    "    # reverse_cot==False or 12*34=86[86]+043[804]=408 otherwise.\n",
    "    # You should use the prompt created above (which has a fixed length\n",
    "    # which is something we rely on later)\n",
    "    else:\n",
    "        a_reverse_str = str(a)[::-1]\n",
    "        sum = 0\n",
    "        for i in range(len(str(a))):\n",
    "            cot = int(int(a_reverse_str[i]) * b * 10 ** i)\n",
    "            sum += cot\n",
    "            if not reverse_cot:\n",
    "                prompt += f\"{str(cot)}[{str(sum)}]\"\n",
    "            else:\n",
    "                prompt += f\"{str(cot)[::-1]}[{str(sum)[::-1]}]\"\n",
    "            if i != max_digits - 1:\n",
    "                prompt += \"+\"\n",
    "            else:\n",
    "                prompt += f\"={sum}\"\n",
    "        return prompt\n",
    "    # ***************************************************\n",
    "    raise NotImplementedError\n",
    "\n",
    "\n",
    "token_table = {\n",
    "    **{f\"{d}\": d for d in range(10)},\n",
    "    \"*\": 10,\n",
    "    \"=\": 11,\n",
    "    \"+\": 12,\n",
    "    \"[\": 13,\n",
    "    \"]\": 14,\n",
    "    \" \": 15,  # Hacky padding\n",
    "}\n",
    "\n",
    "\n",
    "def tokenize(dataset):\n",
    "    \"\"\"\n",
    "    This function takes in a list of strings and converts each one to a uint8\n",
    "    numpy array of tokens corresponding to the characters in the string (see\n",
    "    the token_table above for the mapping).\n",
    "\n",
    "    >>> print(tokenize([\"867*821=711807\"]))\n",
    "    [array([8, 6, 7, 10, 8, 2, 1, 11, 7, 1, 1, 8, 0, 7], dtype=uint8)]\n",
    "    >>> print(tokenize([\"0\", \"123456789*=+[]\"]))\n",
    "    [array([0], dtype=uint8), array([1, 2, 3, 4, 5, 6, 7, 8, 9, 10, 11, 12, 13, 14], dtype=uint8)]\n",
    "    \"\"\"\n",
    "    # ***************************************************\n",
    "    # INSERT YOUR CODE HERE\n",
    "    # TODO: Map each string in the the dataset [list] to a numpy array of\n",
    "    # token indices (integers) according to the token_table defined above.\n",
    "    # Return a list of numpy arrays corresponding to the input strings.\n",
    "    # The datatype used for the numpy array should be np.uint8.\n",
    "    # For example: \"2*3=6\" should be mapped to np.array([2, 10, 3, 11, 6], dtype=np.uint8)\n",
    "\n",
    "    out = []\n",
    "    for item in dataset:\n",
    "        out.append(np.array([token_table[c] for c in item], dtype=np.uint8))\n",
    "\n",
    "    # ***************************************************\n",
    "    # raise NotImplementedError\n",
    "    return out\n",
    "\n",
    "\n",
    "# Other helper functions\n",
    "def generate_dataset(\n",
    "    train_samples=100000,\n",
    "    val_samples=1000,\n",
    "    max_digits=3,\n",
    "    sum_cot=False,\n",
    "    reverse_cot=False,\n",
    "):\n",
    "    assert train_samples + val_samples < 0.75 * 10 ** (\n",
    "        max_digits * 2\n",
    "    ), \"Too many requested data samples\"\n",
    "\n",
    "    def generate_pairs(n_samples, existing_pairs=None):\n",
    "        if existing_pairs is None:\n",
    "            existing_pairs = set()\n",
    "        max_num = 10**max_digits - 1\n",
    "        pairs = set()\n",
    "        while len(pairs) < n_samples:\n",
    "            num1 = random.randint(0, max_num)\n",
    "            num2 = random.randint(0, max_num)\n",
    "            pair = (num1, num2)\n",
    "            if pair not in existing_pairs:\n",
    "                pairs.add(pair)\n",
    "        return pairs\n",
    "\n",
    "    train_set = generate_pairs(train_samples)\n",
    "    val_set = generate_pairs(val_samples, train_set)\n",
    "\n",
    "    train_set = [\n",
    "        generate_mul_seq(a, b, max_digits, sum_cot, reverse_cot) for (a, b) in train_set\n",
    "    ]\n",
    "    val_set = [\n",
    "        generate_mul_seq(a, b, max_digits, sum_cot, reverse_cot) for (a, b) in val_set\n",
    "    ]\n",
    "\n",
    "    return list(train_set), list(val_set)\n",
    "\n",
    "\n",
    "def pad_datasets(train, val):\n",
    "    max_len = max(len(seq) for seq in train + val)\n",
    "    return [seq + \" \" * (max_len - len(seq)) for seq in train], [\n",
    "        seq + \" \" * (max_len - len(seq)) for seq in val\n",
    "    ]\n",
    "\n",
    "\n",
    "inverse_table = {val: key for (key, val) in token_table.items()}\n",
    "\n",
    "\n",
    "def detokenize(data):\n",
    "    out = [\"\".join([inverse_table[idx] for idx in seq]) for seq in data]\n",
    "    return out\n",
    "\n",
    "\n",
    "# Test function we use to test your implementations\n",
    "import doctest\n",
    "import io\n",
    "import sys\n",
    "\n",
    "np.set_printoptions(\n",
    "    threshold=np.inf, linewidth=np.inf, formatter={\"int\": lambda x: f\"{x:d}\"}\n",
    ")\n",
    "\n",
    "\n",
    "def test(f):\n",
    "    # The `globs` defines the variables, functions and packages allowed in the docstring.\n",
    "    tests = doctest.DocTestFinder().find(f)\n",
    "    assert len(tests) <= 1\n",
    "    for test in tests:\n",
    "        # We redirect stdout to a string, so we can tell if the tests worked out or not\n",
    "        orig_stdout = sys.stdout\n",
    "        sys.stdout = io.StringIO()\n",
    "\n",
    "        try:\n",
    "            results: doctest.TestResults = doctest.DocTestRunner().run(test)\n",
    "            output = sys.stdout.getvalue()\n",
    "        finally:\n",
    "            sys.stdout = orig_stdout\n",
    "\n",
    "        if results.failed > 0:\n",
    "            print(f\"❌ The are some issues with your implementation of `{f.__name__}`:\")\n",
    "            print(output, end=\"\")\n",
    "            print(\n",
    "                \"**********************************************************************\"\n",
    "            )\n",
    "        elif results.attempted > 0:\n",
    "            print(f\"✅ Your `{f.__name__}` passed {results.attempted} tests.\")\n",
    "        else:\n",
    "            print(f\"Could not find any tests for {f.__name__}\")"
   ]
  },
  {
   "cell_type": "code",
   "execution_count": 2,
   "metadata": {
    "colab": {
     "base_uri": "https://localhost:8080/"
    },
    "id": "7T6kUO7QmUzF",
    "outputId": "e88d8b5b-4b23-4509-8984-97ddd0a3510b"
   },
   "outputs": [
    {
     "name": "stdout",
     "output_type": "stream",
     "text": [
      "No COT:\n",
      "'864*394=340416'\n",
      "'776*911=706936'\n",
      "' 430*41=17630'\n",
      "\n",
      "Reverse intermediate COT:\n",
      "'265*988=028162=261820'\n",
      "'414*940=061983=389160'\n",
      "'523*497=139952=259931'\n",
      "\n",
      "Sum COT:\n",
      "'310*991=0[0]+9910[9910]+297300[307210]=307210'\n",
      "'802*849=1698[1698]+0[1698]+679200[680898]=680898'\n",
      "'488*366=2928[2928]+29280[32208]+146400[178608]=178608'\n",
      "\n",
      "Reverse sum COT:\n",
      "'597*913=1936[1936]+07128[16588]+005654[160545]=545061'\n",
      "'516*142=258[258]+0241[2722]+00017[27237]=73272'\n",
      "'929*223=7002[7002]+0644[7646]+007002[761702]=207167'\n",
      "\n",
      "✅ Your `generate_mul_seq` passed 4 tests.\n",
      "✅ Your `tokenize` passed 2 tests.\n"
     ]
    }
   ],
   "source": [
    "# Example data\n",
    "random.seed(0)\n",
    "print(\"No COT:\")\n",
    "for seq in generate_dataset(3, 0, sum_cot=False, reverse_cot=False)[0]:\n",
    "    print(repr(seq))\n",
    "\n",
    "print(\"\\nReverse intermediate COT:\")\n",
    "for seq in generate_dataset(3, 0, sum_cot=False, reverse_cot=True)[0]:\n",
    "    print(repr(seq))\n",
    "\n",
    "print(\"\\nSum COT:\")\n",
    "for seq in generate_dataset(3, 0, sum_cot=True, reverse_cot=False)[0]:\n",
    "    print(repr(seq))\n",
    "\n",
    "print(\"\\nReverse sum COT:\")\n",
    "for seq in generate_dataset(3, 0, sum_cot=True, reverse_cot=True)[0]:\n",
    "    print(repr(seq))\n",
    "\n",
    "print()\n",
    "test(generate_mul_seq)\n",
    "test(tokenize)"
   ]
  },
  {
   "cell_type": "markdown",
   "metadata": {
    "id": "W79lvFXnxqVh"
   },
   "source": [
    "# Part 2: Defining the model\n",
    "Below you will find a slightly simplified model definition from [NanoGPT](https://github.com/karpathy/nanoGPT), a lean codebase for training real GPT models. We won't ask you to implement anything but encourage you to read through the code. We do not expect you to understand everything or to be able to implement code like this. However, see if you can answer the following questions:\n",
    "* Where is Layer Normalization applied relative to the attention and MLP subblocks?\n",
    "* What activation function do we use and where?\n",
    "* How do we ensure that the model doesn't cheat during training by looking at future tokens?\n",
    "* Where do we convert the initial input tokens (integers) to vector embeddings?\n",
    "* How do we ensure that attention is aware of the sequence order?"
   ]
  },
  {
   "cell_type": "code",
   "execution_count": 3,
   "metadata": {
    "id": "WvcTNfJZb1ks"
   },
   "outputs": [],
   "source": [
    "# NanoGPT model.py\n",
    "# Slightly simplified to remove things unrelated to this exercise\n",
    "\n",
    "\"\"\"\n",
    "Full definition of a GPT Language Model, all of it in this single file.\n",
    "References:\n",
    "1) the official GPT-2 TensorFlow implementation released by OpenAI:\n",
    "https://github.com/openai/gpt-2/blob/master/src/model.py\n",
    "2) huggingface/transformers PyTorch implementation:\n",
    "https://github.com/huggingface/transformers/blob/main/src/transformers/models/gpt2/modeling_gpt2.py\n",
    "\"\"\"\n",
    "\n",
    "import math\n",
    "import inspect\n",
    "from dataclasses import dataclass\n",
    "\n",
    "import torch\n",
    "import torch.nn as nn\n",
    "from torch.nn import functional as F\n",
    "\n",
    "\n",
    "class LayerNorm(nn.Module):\n",
    "    \"\"\"LayerNorm but with an optional bias. PyTorch doesn't support simply bias=False\"\"\"\n",
    "\n",
    "    def __init__(self, ndim, bias):\n",
    "        super().__init__()\n",
    "        self.weight = nn.Parameter(torch.ones(ndim))\n",
    "        self.bias = nn.Parameter(torch.zeros(ndim)) if bias else None\n",
    "\n",
    "    def forward(self, input):\n",
    "        return F.layer_norm(input, self.weight.shape, self.weight, self.bias, 1e-5)\n",
    "\n",
    "\n",
    "class CausalSelfAttention(nn.Module):\n",
    "    def __init__(self, config):\n",
    "        super().__init__()\n",
    "        assert config.n_embd % config.n_head == 0\n",
    "        # key, query, value projections for all heads, but in a batch\n",
    "        self.c_attn = nn.Linear(config.n_embd, 3 * config.n_embd, bias=config.bias)\n",
    "        # output projection\n",
    "        self.c_proj = nn.Linear(config.n_embd, config.n_embd, bias=config.bias)\n",
    "        # regularization\n",
    "        self.attn_dropout = nn.Dropout(config.dropout)\n",
    "        self.resid_dropout = nn.Dropout(config.dropout)\n",
    "        self.n_head = config.n_head\n",
    "        self.n_embd = config.n_embd\n",
    "        self.dropout = config.dropout\n",
    "        # flash attention make GPU go brrrrr but support is only in PyTorch >= 2.0\n",
    "        self.flash = hasattr(torch.nn.functional, \"scaled_dot_product_attention\")\n",
    "        if not self.flash:\n",
    "            print(\n",
    "                \"WARNING: using slow attention. Flash Attention requires PyTorch >= 2.0\"\n",
    "            )\n",
    "            # causal mask to ensure that attention is only applied to the left in the input sequence\n",
    "            self.register_buffer(\n",
    "                \"bias\",\n",
    "                torch.tril(torch.ones(config.block_size, config.block_size)).view(\n",
    "                    1, 1, config.block_size, config.block_size\n",
    "                ),\n",
    "            )\n",
    "\n",
    "    def forward(self, x):\n",
    "        (\n",
    "            B,\n",
    "            T,\n",
    "            C,\n",
    "        ) = x.size()  # batch size, sequence length, embedding dimensionality (n_embd)\n",
    "\n",
    "        # calculate query, key, values for all heads in batch and move head forward to be the batch dim\n",
    "        q, k, v = self.c_attn(x).split(self.n_embd, dim=2)\n",
    "        k = k.view(B, T, self.n_head, C // self.n_head).transpose(\n",
    "            1, 2\n",
    "        )  # (B, nh, T, hs)\n",
    "        q = q.view(B, T, self.n_head, C // self.n_head).transpose(\n",
    "            1, 2\n",
    "        )  # (B, nh, T, hs)\n",
    "        v = v.view(B, T, self.n_head, C // self.n_head).transpose(\n",
    "            1, 2\n",
    "        )  # (B, nh, T, hs)\n",
    "\n",
    "        # causal self-attention; Self-attend: (B, nh, T, hs) x (B, nh, hs, T) -> (B, nh, T, T)\n",
    "        if self.flash:\n",
    "            # efficient attention using Flash Attention CUDA kernels\n",
    "            y = torch.nn.functional.scaled_dot_product_attention(\n",
    "                q,\n",
    "                k,\n",
    "                v,\n",
    "                attn_mask=None,\n",
    "                dropout_p=self.dropout if self.training else 0,\n",
    "                is_causal=True,\n",
    "            )\n",
    "        else:\n",
    "            # manual implementation of attention\n",
    "            att = (q @ k.transpose(-2, -1)) * (1.0 / math.sqrt(k.size(-1)))\n",
    "            att = att.masked_fill(self.bias[:, :, :T, :T] == 0, float(\"-inf\"))\n",
    "            att = F.softmax(att, dim=-1)\n",
    "            att = self.attn_dropout(att)\n",
    "            y = att @ v  # (B, nh, T, T) x (B, nh, T, hs) -> (B, nh, T, hs)\n",
    "        y = (\n",
    "            y.transpose(1, 2).contiguous().view(B, T, C)\n",
    "        )  # re-assemble all head outputs side by side\n",
    "\n",
    "        # output projection\n",
    "        y = self.resid_dropout(self.c_proj(y))\n",
    "        return y\n",
    "\n",
    "\n",
    "class MLP(nn.Module):\n",
    "    def __init__(self, config):\n",
    "        super().__init__()\n",
    "        self.c_fc = nn.Linear(config.n_embd, 4 * config.n_embd, bias=config.bias)\n",
    "        self.gelu = nn.GELU()\n",
    "        self.c_proj = nn.Linear(4 * config.n_embd, config.n_embd, bias=config.bias)\n",
    "        self.dropout = nn.Dropout(config.dropout)\n",
    "\n",
    "    def forward(self, x):\n",
    "        x = self.c_fc(x)\n",
    "        x = self.gelu(x)\n",
    "        x = self.c_proj(x)\n",
    "        x = self.dropout(x)\n",
    "        return x\n",
    "\n",
    "\n",
    "class Block(nn.Module):\n",
    "    def __init__(self, config):\n",
    "        super().__init__()\n",
    "        self.ln_1 = LayerNorm(config.n_embd, bias=config.bias)\n",
    "        self.attn = CausalSelfAttention(config)\n",
    "        self.ln_2 = LayerNorm(config.n_embd, bias=config.bias)\n",
    "        self.mlp = MLP(config)\n",
    "\n",
    "    def forward(self, x):\n",
    "        x = x + self.attn(self.ln_1(x))\n",
    "        x = x + self.mlp(self.ln_2(x))\n",
    "        return x\n",
    "\n",
    "\n",
    "@dataclass\n",
    "class GPTConfig:\n",
    "    block_size: int = 1024\n",
    "    vocab_size: int = 50304  # GPT-2 vocab_size of 50257, padded up to nearest multiple of 64 for efficiency\n",
    "    n_layer: int = 12\n",
    "    n_head: int = 12\n",
    "    n_embd: int = 768\n",
    "    dropout: float = 0.0\n",
    "    bias: bool = True  # True: bias in Linears and LayerNorms, like GPT-2. False: a bit better and faster\n",
    "\n",
    "\n",
    "class GPT(nn.Module):\n",
    "    def __init__(self, config):\n",
    "        super().__init__()\n",
    "        assert config.vocab_size is not None\n",
    "        assert config.block_size is not None\n",
    "        self.config = config\n",
    "\n",
    "        self.transformer = nn.ModuleDict(\n",
    "            dict(\n",
    "                wte=nn.Embedding(config.vocab_size, config.n_embd),\n",
    "                wpe=nn.Embedding(config.block_size, config.n_embd),\n",
    "                drop=nn.Dropout(config.dropout),\n",
    "                h=nn.ModuleList([Block(config) for _ in range(config.n_layer)]),\n",
    "                ln_f=LayerNorm(config.n_embd, bias=config.bias),\n",
    "            )\n",
    "        )\n",
    "        self.lm_head = nn.Linear(config.n_embd, config.vocab_size, bias=False)\n",
    "        self.transformer.wte.weight = (\n",
    "            self.lm_head.weight\n",
    "        )  # https://paperswithcode.com/method/weight-tying\n",
    "\n",
    "        # init all weights\n",
    "        self.apply(self._init_weights)\n",
    "        # apply special scaled init to the residual projections, per GPT-2 paper\n",
    "        for pn, p in self.named_parameters():\n",
    "            if pn.endswith(\"c_proj.weight\"):\n",
    "                torch.nn.init.normal_(\n",
    "                    p, mean=0.0, std=0.02 / math.sqrt(2 * config.n_layer)\n",
    "                )\n",
    "\n",
    "        # report number of parameters\n",
    "        print(\"number of parameters: %.2fM\" % (self.get_num_params() / 1e6,))\n",
    "\n",
    "    def get_num_params(self, non_embedding=True):\n",
    "        \"\"\"\n",
    "        Return the number of parameters in the model.\n",
    "        For non-embedding count (default), the position embeddings get subtracted.\n",
    "        The token embeddings would too, except due to the parameter sharing these\n",
    "        params are actually used as weights in the final layer, so we include them.\n",
    "        \"\"\"\n",
    "        n_params = sum(p.numel() for p in self.parameters())\n",
    "        if non_embedding:\n",
    "            n_params -= self.transformer.wpe.weight.numel()\n",
    "        return n_params\n",
    "\n",
    "    def _init_weights(self, module):\n",
    "        if isinstance(module, nn.Linear):\n",
    "            torch.nn.init.normal_(module.weight, mean=0.0, std=0.02)\n",
    "            if module.bias is not None:\n",
    "                torch.nn.init.zeros_(module.bias)\n",
    "        elif isinstance(module, nn.Embedding):\n",
    "            torch.nn.init.normal_(module.weight, mean=0.0, std=0.02)\n",
    "\n",
    "    def forward(self, idx, targets=None):\n",
    "        device = idx.device\n",
    "        b, t = idx.size()\n",
    "        assert (\n",
    "            t <= self.config.block_size\n",
    "        ), f\"Cannot forward sequence of length {t}, block size is only {self.config.block_size}\"\n",
    "        pos = torch.arange(0, t, dtype=torch.long, device=device)  # shape (t)\n",
    "\n",
    "        # forward the GPT model itself\n",
    "        tok_emb = self.transformer.wte(idx)  # token embeddings of shape (b, t, n_embd)\n",
    "        pos_emb = self.transformer.wpe(pos)  # position embeddings of shape (t, n_embd)\n",
    "        x = self.transformer.drop(tok_emb + pos_emb)\n",
    "        for block in self.transformer.h:\n",
    "            x = block(x)\n",
    "        x = self.transformer.ln_f(x)\n",
    "\n",
    "        if targets is not None:\n",
    "            # if we are given some desired targets also calculate the loss\n",
    "            logits = self.lm_head(x)\n",
    "            loss = F.cross_entropy(\n",
    "                logits.view(-1, logits.size(-1)), targets.view(-1), ignore_index=-1\n",
    "            )\n",
    "\n",
    "            mask = targets != -1\n",
    "            correct = (torch.argmax(logits, dim=-1) == targets) & mask\n",
    "            acc = torch.sum(1.0 * (correct)) / torch.sum(mask)\n",
    "        else:\n",
    "            # inference-time mini-optimization: only forward the lm_head on the very last position\n",
    "            logits = self.lm_head(\n",
    "                x[:, [-1], :]\n",
    "            )  # note: using list [-1] to preserve the time dim\n",
    "            loss = None\n",
    "            acc = None\n",
    "\n",
    "        return logits, loss, acc\n",
    "\n",
    "    def configure_optimizers(self, weight_decay, learning_rate, betas, device_type):\n",
    "        # start with all of the candidate parameters\n",
    "        param_dict = {pn: p for pn, p in self.named_parameters()}\n",
    "        # filter out those that do not require grad\n",
    "        param_dict = {pn: p for pn, p in param_dict.items() if p.requires_grad}\n",
    "        # create optim groups. Any parameters that is 2D will be weight decayed, otherwise no.\n",
    "        # i.e. all weight tensors in matmuls + embeddings decay, all biases and layernorms don't.\n",
    "        decay_params = [p for n, p in param_dict.items() if p.dim() >= 2]\n",
    "        nodecay_params = [p for n, p in param_dict.items() if p.dim() < 2]\n",
    "        optim_groups = [\n",
    "            {\"params\": decay_params, \"weight_decay\": weight_decay},\n",
    "            {\"params\": nodecay_params, \"weight_decay\": 0.0},\n",
    "        ]\n",
    "        num_decay_params = sum(p.numel() for p in decay_params)\n",
    "        num_nodecay_params = sum(p.numel() for p in nodecay_params)\n",
    "        print(\n",
    "            f\"num decayed parameter tensors: {len(decay_params)}, with {num_decay_params:,} parameters\"\n",
    "        )\n",
    "        print(\n",
    "            f\"num non-decayed parameter tensors: {len(nodecay_params)}, with {num_nodecay_params:,} parameters\"\n",
    "        )\n",
    "        # Create AdamW optimizer and use the fused version if it is available\n",
    "        fused_available = \"fused\" in inspect.signature(torch.optim.AdamW).parameters\n",
    "        use_fused = fused_available and device_type == \"cuda\"\n",
    "        extra_args = dict(fused=True) if use_fused else dict()\n",
    "        optimizer = torch.optim.AdamW(\n",
    "            optim_groups, lr=learning_rate, betas=betas, **extra_args\n",
    "        )\n",
    "        print(f\"using fused AdamW: {use_fused}\")\n",
    "\n",
    "        return optimizer\n",
    "\n",
    "    @torch.no_grad()\n",
    "    def generate(self, idx, max_new_tokens, temperature=1.0, top_k=None):\n",
    "        \"\"\"\n",
    "        Take a conditioning sequence of indices idx (LongTensor of shape (b,t)) and complete\n",
    "        the sequence max_new_tokens times, feeding the predictions back into the model each time.\n",
    "        Most likely you'll want to make sure to be in model.eval() mode of operation for this.\n",
    "        \"\"\"\n",
    "        for _ in range(max_new_tokens):\n",
    "            # if the sequence context is growing too long we must crop it at block_size\n",
    "            idx_cond = (\n",
    "                idx\n",
    "                if idx.size(1) <= self.config.block_size\n",
    "                else idx[:, -self.config.block_size :]\n",
    "            )\n",
    "            # forward the model to get the logits for the index in the sequence\n",
    "            logits, _, _ = self(idx_cond)\n",
    "            # pluck the logits at the final step and scale by desired temperature\n",
    "            logits = logits[:, -1, :] / temperature\n",
    "            # optionally crop the logits to only the top k options\n",
    "            if top_k is not None:\n",
    "                v, _ = torch.topk(logits, min(top_k, logits.size(-1)))\n",
    "                logits[logits < v[:, [-1]]] = -float(\"Inf\")\n",
    "            # apply softmax to convert logits to (normalized) probabilities\n",
    "            probs = F.softmax(logits, dim=-1)\n",
    "            # sample from the distribution\n",
    "            idx_next = torch.multinomial(probs, num_samples=1)\n",
    "            # append sampled index to the running sequence and continue\n",
    "            idx = torch.cat((idx, idx_next), dim=1)\n",
    "\n",
    "        return idx"
   ]
  },
  {
   "cell_type": "markdown",
   "metadata": {
    "id": "c-yueXBcxtRR"
   },
   "source": [
    "# Part 3: Training Script\n",
    "Below you will find a simplified version of the training code used in [NanoGPT](https://github.com/karpathy/nanoGPT). We will also not ask you to implement anything here but encourage you to read through the code. This code uses some concepts you are probably not familiar with such as low precision training in float16 (for faster GPU execution). Do not worry about understanding everything but see if you can answer the following question:\n",
    "* Since the numbers in the prompt are random they can not be accurately predicted. Here we opt to ignore the prompt in our loss and accuracy computation. How do we do this?\n",
    "\n"
   ]
  },
  {
   "cell_type": "code",
   "execution_count": 4,
   "metadata": {
    "id": "DdCqb_lvf2K1"
   },
   "outputs": [],
   "source": [
    "# NanoGPT train.py (modified)\n",
    "# Slightly simplified to remove features not needed here\n",
    "\n",
    "import time\n",
    "import math\n",
    "from contextlib import nullcontext\n",
    "\n",
    "import numpy as np\n",
    "import torch\n",
    "\n",
    "# -----------------------------------------------------------------------------\n",
    "# Some configuration hyperparameters that we keep constant in this notebook\n",
    "\n",
    "# I/O\n",
    "eval_interval = 1000\n",
    "log_interval = 500\n",
    "eval_iters = 8\n",
    "\n",
    "# data\n",
    "batch_size = 128\n",
    "\n",
    "# model\n",
    "n_layer = 6\n",
    "n_head = 4\n",
    "n_embd = 128\n",
    "dropout = 0.0  # for pretraining 0 is good, for finetuning try 0.1+\n",
    "bias = False  # do we use bias inside LayerNorm and Linear layers?\n",
    "\n",
    "# adamw optimizer\n",
    "learning_rate = 1e-3  # max learning rate\n",
    "max_iters = 5000  # total number of training iterations\n",
    "weight_decay = 1e-1\n",
    "beta1 = 0.9\n",
    "beta2 = 0.95\n",
    "grad_clip = 1.0  # clip gradients at this value, or disable if == 0.0\n",
    "\n",
    "# learning rate decay settings\n",
    "decay_lr = True  # whether to decay the learning rate\n",
    "warmup_iters = 1000  # how many steps to warm up for\n",
    "lr_decay_iters = max_iters  # should be ~= max_iters per Chinchilla\n",
    "min_lr = 0  # minimum learning rate, should be ~= learning_rate/10 per Chinchilla\n",
    "\n",
    "# system\n",
    "device = (\n",
    "    \"cuda\"  # examples: 'cpu', 'cuda', 'cuda:0', 'cuda:1' etc., or try 'mps' on macbooks\n",
    ")\n",
    "dtype = (\n",
    "    \"bfloat16\"\n",
    "    if torch.cuda.is_available() and torch.cuda.is_bf16_supported()\n",
    "    else \"float16\"\n",
    ")  # 'float32', 'bfloat16', or 'float16', the latter will auto implement a GradScaler\n",
    "compile = False  # use PyTorch 2.0 to compile the model to be faster\n",
    "# -----------------------------------------------------------------------------\n",
    "\n",
    "\n",
    "# learning rate decay scheduler (cosine with warmup)\n",
    "def get_lr(it):\n",
    "    # 1) linear warmup for warmup_iters steps\n",
    "    if it < warmup_iters:\n",
    "        return learning_rate * it / warmup_iters\n",
    "    # 2) if it > lr_decay_iters, return min learning rate\n",
    "    if it > lr_decay_iters:\n",
    "        return min_lr\n",
    "    # 3) in between, use cosine decay down to min learning rate\n",
    "    decay_ratio = (it - warmup_iters) / (lr_decay_iters - warmup_iters)\n",
    "    assert 0 <= decay_ratio <= 1\n",
    "    coeff = 0.5 * (1.0 + math.cos(math.pi * decay_ratio))  # coeff ranges 0..1\n",
    "    return min_lr + coeff * (learning_rate - min_lr)\n",
    "\n",
    "\n",
    "def train_model(train_data, val_data, prompt_length, block_size):\n",
    "    # Usually we would take a lot more of the hyperparameters as some sort of\n",
    "    # arguments but here we only change the train_data and val_data\n",
    "\n",
    "    torch.manual_seed(1337)\n",
    "    torch.backends.cuda.matmul.allow_tf32 = True  # allow tf32 on matmul\n",
    "    torch.backends.cudnn.allow_tf32 = True  # allow tf32 on cudnn\n",
    "    device_type = (\n",
    "        \"cuda\" if \"cuda\" in device else \"cpu\"\n",
    "    )  # for later use in torch.autocast\n",
    "    # note: float16 data type will automatically use a GradScaler\n",
    "    ptdtype = {\n",
    "        \"float32\": torch.float32,\n",
    "        \"bfloat16\": torch.bfloat16,\n",
    "        \"float16\": torch.float16,\n",
    "    }[dtype]\n",
    "    ctx = (\n",
    "        nullcontext()\n",
    "        if device_type == \"cpu\"\n",
    "        else torch.amp.autocast(device_type=device_type, dtype=ptdtype)\n",
    "    )\n",
    "\n",
    "    # poor man's data loader\n",
    "    def get_batch(split, mask_first=prompt_length - 1):\n",
    "        data = train_data if split == \"train\" else val_data\n",
    "        ix = torch.randint(len(data), (batch_size,))\n",
    "        x = torch.stack([torch.from_numpy((data[i][:-1]).astype(np.int64)) for i in ix])\n",
    "        y = torch.stack([torch.from_numpy((data[i][1:]).astype(np.int64)) for i in ix])\n",
    "        if mask_first:\n",
    "            y[:, :mask_first] = -1\n",
    "        if device_type == \"cuda\":\n",
    "            # pin arrays x,y, which allows us to move them to GPU asynchronously (non_blocking=True)\n",
    "            x, y = x.pin_memory().to(device, non_blocking=True), y.pin_memory().to(\n",
    "                device, non_blocking=True\n",
    "            )\n",
    "        else:\n",
    "            x, y = x.to(device), y.to(device)\n",
    "        return x, y\n",
    "\n",
    "    print(f\"{block_size=}\")\n",
    "    tokens_per_iter = batch_size * block_size\n",
    "    print(f\"tokens per iteration will be: {tokens_per_iter:,}\")\n",
    "\n",
    "    # model init\n",
    "    model_args = dict(\n",
    "        n_layer=n_layer,\n",
    "        n_head=n_head,\n",
    "        n_embd=n_embd,\n",
    "        block_size=block_size,\n",
    "        bias=bias,\n",
    "        vocab_size=None,\n",
    "        dropout=dropout,\n",
    "    )  # start with model_args from command line\n",
    "    print(\"Initializing a new model from scratch\")\n",
    "    model_args[\"vocab_size\"] = 16\n",
    "    gptconf = GPTConfig(**model_args)\n",
    "    model = GPT(gptconf)\n",
    "    model.to(device)\n",
    "\n",
    "    # initialize a GradScaler. If enabled=False scaler is a no-op\n",
    "    scaler = torch.cuda.amp.GradScaler(enabled=(dtype == \"float16\"))\n",
    "\n",
    "    # optimizer\n",
    "    optimizer = model.configure_optimizers(\n",
    "        weight_decay, learning_rate, (beta1, beta2), device_type\n",
    "    )\n",
    "\n",
    "    # compile the model\n",
    "    if compile:\n",
    "        print(\"compiling the model... (takes a ~minute)\")\n",
    "        unoptimized_model = model\n",
    "        model = torch.compile(model)  # requires PyTorch 2.0\n",
    "\n",
    "    # helps estimate an arbitrarily accurate loss over either split using many batches\n",
    "    @torch.no_grad()\n",
    "    def estimate_loss():\n",
    "        out_losses = {}\n",
    "        out_accs = {}\n",
    "        model.eval()\n",
    "        for split in [\"train\", \"val\"]:\n",
    "            losses = torch.zeros(eval_iters)\n",
    "            accs = torch.zeros(eval_iters)\n",
    "            for k in range(eval_iters):\n",
    "                X, Y = get_batch(split)\n",
    "                with ctx:\n",
    "                    logits, loss, acc = model(X, Y)\n",
    "                losses[k] = loss.item()\n",
    "                accs[k] = acc.item()\n",
    "            out_losses[split] = losses.mean()\n",
    "            out_accs[split] = accs.mean()\n",
    "        model.train()\n",
    "        return out_losses, out_accs\n",
    "\n",
    "    # training loop\n",
    "    iter_num = 0\n",
    "    best_val_loss = 1e9\n",
    "    X, Y = get_batch(\"train\")  # fetch the very first batch\n",
    "    t0 = time.time()\n",
    "\n",
    "    while True:\n",
    "        # determine and set the learning rate for this iteration\n",
    "        lr = get_lr(iter_num) if decay_lr else learning_rate\n",
    "        for param_group in optimizer.param_groups:\n",
    "            param_group[\"lr\"] = lr\n",
    "\n",
    "        # evaluate the loss on train/val sets and write checkpoints\n",
    "        if iter_num % eval_interval == 0:\n",
    "            losses, accs = estimate_loss()\n",
    "            print(\n",
    "                f\"step {iter_num}: train loss {losses['train']:.4f}, val loss {losses['val']:.4f}, train acc {accs['train']:0.4f}, val acc {accs['val']:0.4f}\"\n",
    "            )\n",
    "\n",
    "        # forward backward update, with optional gradient accumulation to simulate larger batch size\n",
    "        # and using the GradScaler if data type is float16\n",
    "        with ctx:\n",
    "            logits, loss, accuracy = model(X, Y)\n",
    "        # immediately async prefetch next batch while model is doing the forward pass on the GPU\n",
    "        X, Y = get_batch(\"train\")\n",
    "        # backward pass, with gradient scaling if training in fp16\n",
    "        scaler.scale(loss).backward()\n",
    "        # clip the gradient\n",
    "        if grad_clip != 0.0:\n",
    "            scaler.unscale_(optimizer)\n",
    "            torch.nn.utils.clip_grad_norm_(model.parameters(), grad_clip)\n",
    "        # step the optimizer and scaler if training in fp16\n",
    "        scaler.step(optimizer)\n",
    "        scaler.update()\n",
    "        # flush the gradients as soon as we can, no need for this memory anymore\n",
    "        optimizer.zero_grad(set_to_none=True)\n",
    "\n",
    "        # timing and logging\n",
    "        t1 = time.time()\n",
    "        dt = t1 - t0\n",
    "        t0 = t1\n",
    "        if iter_num % log_interval == 0:\n",
    "            # get loss as float. note: this is a CPU-GPU sync point\n",
    "            lossf = loss.item()\n",
    "            print(\n",
    "                f\"iter {iter_num}: loss {lossf:.4f}, time {dt*1000:.2f}ms, {accuracy=:0.3f}\"\n",
    "            )\n",
    "        iter_num += 1\n",
    "\n",
    "        # termination conditions\n",
    "        if iter_num > max_iters:\n",
    "            break\n",
    "\n",
    "    return model"
   ]
  },
  {
   "cell_type": "markdown",
   "metadata": {
    "id": "5o6OpMkFx2Jp"
   },
   "source": [
    "# Part 4: Evaluating models\n",
    "In this part you will train models on different types of data and evaluate how well they perform during inference.\n",
    "\n",
    "Fill out the missing details to train and compare the different models below. How do the different types of data change the difficulty of the task? Note that here we don't significantly tune the training much, it is probably possible to receive somewhat better performance on the direct task with longer training and better tuning (but we want to keep things short / managable here)."
   ]
  },
  {
   "cell_type": "code",
   "execution_count": 5,
   "metadata": {
    "id": "fgsvSd1sq7Ww"
   },
   "outputs": [],
   "source": [
    "# Helper functions for evaluation (no action needed)\n",
    "\n",
    "from IPython.display import HTML\n",
    "import difflib\n",
    "\n",
    "\n",
    "def compare_strings_html(pred_str, true_str):\n",
    "    # Initialize an empty string for the HTML output\n",
    "    diff_str = \"\"\n",
    "\n",
    "    # Iterate over the characters based on the length of the shorter string\n",
    "    for i in range(min(len(pred_str), len(true_str))):\n",
    "        if pred_str[i] != true_str[i]:\n",
    "            # If characters are different, color them red\n",
    "            diff_str += '<span style=\"color: #FF0000; text-decoration: line-through;\">{}</span>'.format(\n",
    "                pred_str[i]\n",
    "            )\n",
    "        else:\n",
    "            # If characters are the same, keep them as they are\n",
    "            diff_str += pred_str[i]\n",
    "\n",
    "    # Add the remaining characters of pred_str in red if they are extra\n",
    "    if len(pred_str) > len(true_str):\n",
    "        for extra_char in pred_str[len(true_str) :]:\n",
    "            diff_str += '<span style=\"color: #FF0000;\">{}</span>'.format(extra_char)\n",
    "\n",
    "    return diff_str\n",
    "\n",
    "\n",
    "def calculate_accuracies(Y_true, Y_pred, prompt_length):\n",
    "    total_strings = len(Y_true)\n",
    "    exact_match_count = 0\n",
    "    total_chars = 0\n",
    "    char_match_count = 0\n",
    "\n",
    "    for true_str, pred_str in zip(Y_true, Y_pred):\n",
    "        # Count exact matches\n",
    "        if true_str == pred_str:\n",
    "            exact_match_count += 1\n",
    "\n",
    "        # Count character matches, ignoring prompt_length\n",
    "        for t_char, p_char in zip(true_str[prompt_length:], pred_str[prompt_length:]):\n",
    "            if t_char != \" \":\n",
    "                total_chars += 1\n",
    "                if t_char == p_char:\n",
    "                    char_match_count += 1\n",
    "\n",
    "    # Calculate accuracies\n",
    "    string_accuracy = exact_match_count / total_strings\n",
    "    char_accuracy = char_match_count / total_chars\n",
    "\n",
    "    return string_accuracy, char_accuracy\n",
    "\n",
    "\n",
    "def evaluate_model_generation(model, val_data, num_sequences=1024, batch_size=128):\n",
    "    # Generate sequences based on validation prompts and compare / compute accuracy\n",
    "    num_sequences = min(num_sequences, len(val_data))\n",
    "    model.eval()\n",
    "\n",
    "    true_seq = []\n",
    "    pred_seq = []\n",
    "\n",
    "    for batch_idx in range((num_sequences + batch_size - 1) // batch_size):\n",
    "        start_idx = batch_idx * batch_size\n",
    "        end_idx = min((batch_idx + 1) * batch_size, num_sequences)\n",
    "        sequences = [(val_data[i]) for i in range(start_idx, end_idx)]\n",
    "\n",
    "        X_val = torch.stack(\n",
    "            [torch.from_numpy(seq.astype(np.int64)) for seq in sequences]\n",
    "        ).to(device)\n",
    "        X_prompt = X_val[:, :prompt_length]\n",
    "        Y_pred = model.generate(X_prompt, block_size - prompt_length + 1, top_k=1)\n",
    "\n",
    "        # Convert to strings\n",
    "        true_seq.extend(detokenize(X_val.cpu().numpy()))\n",
    "        pred_seq.extend(detokenize(Y_pred.cpu().numpy()))\n",
    "\n",
    "    # Compute accuracy\n",
    "    string_accuracy, char_accuracy = calculate_accuracies(\n",
    "        true_seq, pred_seq, prompt_length=prompt_length\n",
    "    )\n",
    "    print(\"Auto-regressive Generation\")\n",
    "    print(f\"Sequence-Level Accuracy: {string_accuracy:0.4f}\")\n",
    "    print(f\"Character-Level Accuracy: {char_accuracy:0.4f}\")\n",
    "\n",
    "    print(\"\\nExamples of correct/incorrect sequences:\")\n",
    "    correct = 0\n",
    "    incorrect = 0\n",
    "    for tseq, pseq in zip(true_seq, pred_seq):\n",
    "        if tseq == pseq and correct < 5:\n",
    "            correct += 1\n",
    "            print(f\"Correct:   {tseq}\")\n",
    "        if tseq != pseq and incorrect < 5:\n",
    "            incorrect += 1\n",
    "            print(f\"Incorrect: {tseq}\")\n",
    "            display(\n",
    "                HTML(f'<div style=\"margin-left: 20px;\"><pre>Target: {tseq}</pre></div>')\n",
    "            )\n",
    "            display(\n",
    "                HTML(\n",
    "                    f'<div style=\"margin-left: 20px;\"><pre>Output: {compare_strings_html(pseq, tseq)}</pre></div>'\n",
    "                )\n",
    "            )"
   ]
  },
  {
   "cell_type": "code",
   "execution_count": 11,
   "metadata": {
    "colab": {
     "base_uri": "https://localhost:8080/",
     "height": 1000
    },
    "id": "XJ2Cng10vc8W",
    "outputId": "0c8fd33d-debd-4720-c4ae-cc1e7c3540ca"
   },
   "outputs": [
    {
     "name": "stdout",
     "output_type": "stream",
     "text": [
      "================================================================================\n",
      "max_digits=3, sum_cot=False, reverse_cot=False\n",
      "================================================================================\n",
      "===== Training =====\n",
      "block_size=13\n",
      "tokens per iteration will be: 1,664\n",
      "Initializing a new model from scratch\n",
      "number of parameters: 1.18M\n",
      "num decayed parameter tensors: 26, with 1,183,360 parameters\n",
      "num non-decayed parameter tensors: 13, with 1,664 parameters\n",
      "using fused AdamW: True\n",
      "step 0: train loss 2.7964, val loss 2.7926, train acc 0.0947, val acc 0.0959\n",
      "iter 0: loss 2.7989, time 203.82ms, accuracy=0.091\n",
      "iter 500: loss 1.6318, time 11.46ms, accuracy=0.362\n",
      "step 1000: train loss 1.4629, val loss 1.4515, train acc 0.4365, val acc 0.4386\n",
      "iter 1000: loss 1.4753, time 195.53ms, accuracy=0.426\n",
      "iter 1500: loss 1.2064, time 21.78ms, accuracy=0.525\n",
      "step 2000: train loss 1.2086, val loss 1.2077, train acc 0.5228, val acc 0.5195\n",
      "iter 2000: loss 1.1838, time 194.21ms, accuracy=0.544\n",
      "iter 2500: loss 1.1021, time 24.84ms, accuracy=0.548\n",
      "step 3000: train loss 1.0683, val loss 1.0746, train acc 0.5771, val acc 0.5719\n",
      "iter 3000: loss 1.0458, time 177.66ms, accuracy=0.578\n",
      "iter 3500: loss 1.0528, time 21.19ms, accuracy=0.578\n",
      "step 4000: train loss 0.9944, val loss 0.9834, train acc 0.6147, val acc 0.6107\n",
      "iter 4000: loss 0.9943, time 174.63ms, accuracy=0.589\n",
      "iter 4500: loss 0.9817, time 20.07ms, accuracy=0.629\n",
      "step 5000: train loss 0.9553, val loss 0.9778, train acc 0.6305, val acc 0.6214\n",
      "iter 5000: loss 0.9558, time 172.93ms, accuracy=0.628\n",
      "\n",
      "\n",
      "===== Evaluation =====\n",
      "Auto-regressive Generation\n",
      "Sequence-Level Accuracy: 0.0210\n",
      "Character-Level Accuracy: 0.5910\n",
      "\n",
      "Examples of correct/incorrect sequences:\n",
      "Incorrect: 733*548=401684\n"
     ]
    },
    {
     "data": {
      "text/html": [
       "<div style=\"margin-left: 20px;\"><pre>Target: 733*548=401684</pre></div>"
      ],
      "text/plain": [
       "<IPython.core.display.HTML object>"
      ]
     },
     "metadata": {},
     "output_type": "display_data"
    },
    {
     "data": {
      "text/html": [
       "<div style=\"margin-left: 20px;\"><pre>Output: 733*548=401<span style=\"color: #FF0000; text-decoration: line-through;\">1</span><span style=\"color: #FF0000; text-decoration: line-through;\">0</span>4</pre></div>"
      ],
      "text/plain": [
       "<IPython.core.display.HTML object>"
      ]
     },
     "metadata": {},
     "output_type": "display_data"
    },
    {
     "name": "stdout",
     "output_type": "stream",
     "text": [
      "Incorrect: 557*969=539733\n"
     ]
    },
    {
     "data": {
      "text/html": [
       "<div style=\"margin-left: 20px;\"><pre>Target: 557*969=539733</pre></div>"
      ],
      "text/plain": [
       "<IPython.core.display.HTML object>"
      ]
     },
     "metadata": {},
     "output_type": "display_data"
    },
    {
     "data": {
      "text/html": [
       "<div style=\"margin-left: 20px;\"><pre>Output: 557*969=539<span style=\"color: #FF0000; text-decoration: line-through;\">9</span><span style=\"color: #FF0000; text-decoration: line-through;\">9</span>3</pre></div>"
      ],
      "text/plain": [
       "<IPython.core.display.HTML object>"
      ]
     },
     "metadata": {},
     "output_type": "display_data"
    },
    {
     "name": "stdout",
     "output_type": "stream",
     "text": [
      "Incorrect: 732*592=433344\n"
     ]
    },
    {
     "data": {
      "text/html": [
       "<div style=\"margin-left: 20px;\"><pre>Target: 732*592=433344</pre></div>"
      ],
      "text/plain": [
       "<IPython.core.display.HTML object>"
      ]
     },
     "metadata": {},
     "output_type": "display_data"
    },
    {
     "data": {
      "text/html": [
       "<div style=\"margin-left: 20px;\"><pre>Output: 732*592=43<span style=\"color: #FF0000; text-decoration: line-through;\">7</span><span style=\"color: #FF0000; text-decoration: line-through;\">7</span><span style=\"color: #FF0000; text-decoration: line-through;\">0</span>4</pre></div>"
      ],
      "text/plain": [
       "<IPython.core.display.HTML object>"
      ]
     },
     "metadata": {},
     "output_type": "display_data"
    },
    {
     "name": "stdout",
     "output_type": "stream",
     "text": [
      "Incorrect: 982*960=942720\n"
     ]
    },
    {
     "data": {
      "text/html": [
       "<div style=\"margin-left: 20px;\"><pre>Target: 982*960=942720</pre></div>"
      ],
      "text/plain": [
       "<IPython.core.display.HTML object>"
      ]
     },
     "metadata": {},
     "output_type": "display_data"
    },
    {
     "data": {
      "text/html": [
       "<div style=\"margin-left: 20px;\"><pre>Output: 982*960=94<span style=\"color: #FF0000; text-decoration: line-through;\">5</span><span style=\"color: #FF0000; text-decoration: line-through;\">5</span>20</pre></div>"
      ],
      "text/plain": [
       "<IPython.core.display.HTML object>"
      ]
     },
     "metadata": {},
     "output_type": "display_data"
    },
    {
     "name": "stdout",
     "output_type": "stream",
     "text": [
      "Incorrect: 784*877=687568\n"
     ]
    },
    {
     "data": {
      "text/html": [
       "<div style=\"margin-left: 20px;\"><pre>Target: 784*877=687568</pre></div>"
      ],
      "text/plain": [
       "<IPython.core.display.HTML object>"
      ]
     },
     "metadata": {},
     "output_type": "display_data"
    },
    {
     "data": {
      "text/html": [
       "<div style=\"margin-left: 20px;\"><pre>Output: 784*877=68<span style=\"color: #FF0000; text-decoration: line-through;\">8</span><span style=\"color: #FF0000; text-decoration: line-through;\">8</span><span style=\"color: #FF0000; text-decoration: line-through;\">8</span>8</pre></div>"
      ],
      "text/plain": [
       "<IPython.core.display.HTML object>"
      ]
     },
     "metadata": {},
     "output_type": "display_data"
    },
    {
     "name": "stdout",
     "output_type": "stream",
     "text": [
      "Correct:   332*320=106240\n",
      "Correct:   121*262=31702 \n",
      "Correct:    446*76=33896 \n",
      "Correct:   200*397=79400 \n",
      "Correct:    440*98=43120 \n",
      "================================================================================\n",
      "\n",
      "\n",
      "\n",
      "================================================================================\n",
      "max_digits=3, sum_cot=False, reverse_cot=True\n",
      "================================================================================\n",
      "===== Training =====\n",
      "block_size=20\n",
      "tokens per iteration will be: 2,560\n",
      "Initializing a new model from scratch\n",
      "number of parameters: 1.18M\n",
      "num decayed parameter tensors: 26, with 1,184,256 parameters\n",
      "num non-decayed parameter tensors: 13, with 1,664 parameters\n",
      "using fused AdamW: True\n",
      "step 0: train loss 2.7490, val loss 2.7631, train acc 0.1173, val acc 0.1073\n",
      "iter 0: loss 2.7353, time 177.37ms, accuracy=0.124\n",
      "iter 500: loss 0.7110, time 20.25ms, accuracy=0.732\n",
      "step 1000: train loss 0.6630, val loss 0.6636, train acc 0.7463, val acc 0.7480\n",
      "iter 1000: loss 0.6541, time 95.31ms, accuracy=0.740\n",
      "iter 1500: loss 0.5955, time 11.57ms, accuracy=0.761\n",
      "step 2000: train loss 0.4682, val loss 0.4836, train acc 0.8096, val acc 0.8017\n",
      "iter 2000: loss 0.4617, time 188.32ms, accuracy=0.812\n",
      "iter 2500: loss 0.4327, time 24.07ms, accuracy=0.816\n",
      "step 3000: train loss 0.4074, val loss 0.4081, train acc 0.8347, val acc 0.8309\n",
      "iter 3000: loss 0.4088, time 178.94ms, accuracy=0.828\n",
      "iter 3500: loss 0.3660, time 20.70ms, accuracy=0.853\n",
      "step 4000: train loss 0.3706, val loss 0.3745, train acc 0.8473, val acc 0.8470\n",
      "iter 4000: loss 0.3758, time 177.81ms, accuracy=0.846\n",
      "iter 4500: loss 0.3502, time 19.78ms, accuracy=0.853\n",
      "step 5000: train loss 0.3552, val loss 0.3552, train acc 0.8545, val acc 0.8552\n",
      "iter 5000: loss 0.3735, time 174.23ms, accuracy=0.840\n",
      "\n",
      "\n",
      "===== Evaluation =====\n",
      "Auto-regressive Generation\n",
      "Sequence-Level Accuracy: 0.0350\n",
      "Character-Level Accuracy: 0.6222\n",
      "\n",
      "Examples of correct/incorrect sequences:\n",
      "Incorrect: 733*548=486104=401684\n"
     ]
    },
    {
     "data": {
      "text/html": [
       "<div style=\"margin-left: 20px;\"><pre>Target: 733*548=486104=401684</pre></div>"
      ],
      "text/plain": [
       "<IPython.core.display.HTML object>"
      ]
     },
     "metadata": {},
     "output_type": "display_data"
    },
    {
     "data": {
      "text/html": [
       "<div style=\"margin-left: 20px;\"><pre>Output: 733*548=48<span style=\"color: #FF0000; text-decoration: line-through;\">0</span><span style=\"color: #FF0000; text-decoration: line-through;\">9</span><span style=\"color: #FF0000; text-decoration: line-through;\">9</span><span style=\"color: #FF0000; text-decoration: line-through;\">3</span>=<span style=\"color: #FF0000; text-decoration: line-through;\">3</span><span style=\"color: #FF0000; text-decoration: line-through;\">9</span><span style=\"color: #FF0000; text-decoration: line-through;\">9</span><span style=\"color: #FF0000; text-decoration: line-through;\">0</span>84</pre></div>"
      ],
      "text/plain": [
       "<IPython.core.display.HTML object>"
      ]
     },
     "metadata": {},
     "output_type": "display_data"
    },
    {
     "name": "stdout",
     "output_type": "stream",
     "text": [
      "Incorrect: 557*969=337935=539733\n"
     ]
    },
    {
     "data": {
      "text/html": [
       "<div style=\"margin-left: 20px;\"><pre>Target: 557*969=337935=539733</pre></div>"
      ],
      "text/plain": [
       "<IPython.core.display.HTML object>"
      ]
     },
     "metadata": {},
     "output_type": "display_data"
    },
    {
     "data": {
      "text/html": [
       "<div style=\"margin-left: 20px;\"><pre>Output: 557*969=3<span style=\"color: #FF0000; text-decoration: line-through;\">9</span><span style=\"color: #FF0000; text-decoration: line-through;\">3</span><span style=\"color: #FF0000; text-decoration: line-through;\">3</span><span style=\"color: #FF0000; text-decoration: line-through;\">4</span>5=5<span style=\"color: #FF0000; text-decoration: line-through;\">4</span><span style=\"color: #FF0000; text-decoration: line-through;\">3</span><span style=\"color: #FF0000; text-decoration: line-through;\">3</span><span style=\"color: #FF0000; text-decoration: line-through;\">9</span>3</pre></div>"
      ],
      "text/plain": [
       "<IPython.core.display.HTML object>"
      ]
     },
     "metadata": {},
     "output_type": "display_data"
    },
    {
     "name": "stdout",
     "output_type": "stream",
     "text": [
      "Incorrect: 732*592=443334=433344\n"
     ]
    },
    {
     "data": {
      "text/html": [
       "<div style=\"margin-left: 20px;\"><pre>Target: 732*592=443334=433344</pre></div>"
      ],
      "text/plain": [
       "<IPython.core.display.HTML object>"
      ]
     },
     "metadata": {},
     "output_type": "display_data"
    },
    {
     "data": {
      "text/html": [
       "<div style=\"margin-left: 20px;\"><pre>Output: 732*592=44<span style=\"color: #FF0000; text-decoration: line-through;\">5</span><span style=\"color: #FF0000; text-decoration: line-through;\">5</span>34=43<span style=\"color: #FF0000; text-decoration: line-through;\">5</span><span style=\"color: #FF0000; text-decoration: line-through;\">5</span>44</pre></div>"
      ],
      "text/plain": [
       "<IPython.core.display.HTML object>"
      ]
     },
     "metadata": {},
     "output_type": "display_data"
    },
    {
     "name": "stdout",
     "output_type": "stream",
     "text": [
      "Incorrect: 982*960=027249=942720\n"
     ]
    },
    {
     "data": {
      "text/html": [
       "<div style=\"margin-left: 20px;\"><pre>Target: 982*960=027249=942720</pre></div>"
      ],
      "text/plain": [
       "<IPython.core.display.HTML object>"
      ]
     },
     "metadata": {},
     "output_type": "display_data"
    },
    {
     "data": {
      "text/html": [
       "<div style=\"margin-left: 20px;\"><pre>Output: 982*960=02<span style=\"color: #FF0000; text-decoration: line-through;\">1</span><span style=\"color: #FF0000; text-decoration: line-through;\">1</span>49=94<span style=\"color: #FF0000; text-decoration: line-through;\">1</span><span style=\"color: #FF0000; text-decoration: line-through;\">1</span>20</pre></div>"
      ],
      "text/plain": [
       "<IPython.core.display.HTML object>"
      ]
     },
     "metadata": {},
     "output_type": "display_data"
    },
    {
     "name": "stdout",
     "output_type": "stream",
     "text": [
      "Incorrect: 784*877=865786=687568\n"
     ]
    },
    {
     "data": {
      "text/html": [
       "<div style=\"margin-left: 20px;\"><pre>Target: 784*877=865786=687568</pre></div>"
      ],
      "text/plain": [
       "<IPython.core.display.HTML object>"
      ]
     },
     "metadata": {},
     "output_type": "display_data"
    },
    {
     "data": {
      "text/html": [
       "<div style=\"margin-left: 20px;\"><pre>Output: 784*877=8<span style=\"color: #FF0000; text-decoration: line-through;\">0</span><span style=\"color: #FF0000; text-decoration: line-through;\">2</span><span style=\"color: #FF0000; text-decoration: line-through;\">2</span>86=68<span style=\"color: #FF0000; text-decoration: line-through;\">2</span><span style=\"color: #FF0000; text-decoration: line-through;\">2</span><span style=\"color: #FF0000; text-decoration: line-through;\">0</span>8</pre></div>"
      ],
      "text/plain": [
       "<IPython.core.display.HTML object>"
      ]
     },
     "metadata": {},
     "output_type": "display_data"
    },
    {
     "name": "stdout",
     "output_type": "stream",
     "text": [
      "Correct:    44*643=29282=28292  \n",
      "Correct:     189*5=549=945      \n",
      "Correct:    64*886=40765=56704  \n",
      "Correct:   400*337=008431=134800\n",
      "Correct:   200*397=00497=79400  \n",
      "================================================================================\n",
      "\n",
      "\n",
      "\n",
      "================================================================================\n",
      "max_digits=3, sum_cot=True, reverse_cot=False\n",
      "================================================================================\n",
      "===== Training =====\n",
      "block_size=52\n",
      "tokens per iteration will be: 6,656\n",
      "Initializing a new model from scratch\n",
      "number of parameters: 1.18M\n",
      "num decayed parameter tensors: 26, with 1,188,352 parameters\n",
      "num non-decayed parameter tensors: 13, with 1,664 parameters\n",
      "using fused AdamW: True\n",
      "step 0: train loss 2.6947, val loss 2.6955, train acc 0.1836, val acc 0.1809\n",
      "iter 0: loss 2.6904, time 192.82ms, accuracy=0.184\n",
      "iter 500: loss 0.7509, time 19.85ms, accuracy=0.725\n",
      "step 1000: train loss 0.2060, val loss 0.2121, train acc 0.9236, val acc 0.9224\n",
      "iter 1000: loss 0.1977, time 183.89ms, accuracy=0.929\n",
      "iter 1500: loss 0.0445, time 19.29ms, accuracy=0.984\n",
      "step 2000: train loss 0.0221, val loss 0.0203, train acc 0.9925, val acc 0.9931\n",
      "iter 2000: loss 0.0200, time 263.11ms, accuracy=0.993\n",
      "iter 2500: loss 0.0118, time 13.62ms, accuracy=0.996\n",
      "step 3000: train loss 0.0104, val loss 0.0105, train acc 0.9965, val acc 0.9969\n",
      "iter 3000: loss 0.0137, time 120.26ms, accuracy=0.997\n",
      "iter 3500: loss 0.0047, time 10.16ms, accuracy=0.999\n",
      "step 4000: train loss 0.0018, val loss 0.0021, train acc 0.9994, val acc 0.9992\n",
      "iter 4000: loss 0.0011, time 108.32ms, accuracy=1.000\n",
      "iter 4500: loss 0.0004, time 11.52ms, accuracy=1.000\n",
      "step 5000: train loss 0.0006, val loss 0.0008, train acc 0.9997, val acc 0.9996\n",
      "iter 5000: loss 0.0005, time 173.15ms, accuracy=1.000\n",
      "\n",
      "\n",
      "===== Evaluation =====\n",
      "Auto-regressive Generation\n",
      "Sequence-Level Accuracy: 0.9860\n",
      "Character-Level Accuracy: 0.9992\n",
      "\n",
      "Examples of correct/incorrect sequences:\n",
      "Correct:   733*548=1644[1644]+16440[18084]+383600[401684]=401684\n",
      "Correct:   557*969=6783[6783]+48450[55233]+484500[539733]=539733\n",
      "Correct:   732*592=1184[1184]+17760[18944]+414400[433344]=433344\n",
      "Correct:   982*960=1920[1920]+76800[78720]+864000[942720]=942720\n",
      "Correct:   784*877=3508[3508]+70160[73668]+613900[687568]=687568\n",
      "Incorrect: 745*819=4095[4095]+32760[36855]+573300[610155]=610155\n"
     ]
    },
    {
     "data": {
      "text/html": [
       "<div style=\"margin-left: 20px;\"><pre>Target: 745*819=4095[4095]+32760[36855]+573300[610155]=610155</pre></div>"
      ],
      "text/plain": [
       "<IPython.core.display.HTML object>"
      ]
     },
     "metadata": {},
     "output_type": "display_data"
    },
    {
     "data": {
      "text/html": [
       "<div style=\"margin-left: 20px;\"><pre>Output: 745*819=4095[4095]+32760[36855]+573300[6<span style=\"color: #FF0000; text-decoration: line-through;\">0</span>0155]=6<span style=\"color: #FF0000; text-decoration: line-through;\">0</span>0155</pre></div>"
      ],
      "text/plain": [
       "<IPython.core.display.HTML object>"
      ]
     },
     "metadata": {},
     "output_type": "display_data"
    },
    {
     "name": "stdout",
     "output_type": "stream",
     "text": [
      "Incorrect: 434*553=2212[2212]+16590[18802]+221200[240002]=240002\n"
     ]
    },
    {
     "data": {
      "text/html": [
       "<div style=\"margin-left: 20px;\"><pre>Target: 434*553=2212[2212]+16590[18802]+221200[240002]=240002</pre></div>"
      ],
      "text/plain": [
       "<IPython.core.display.HTML object>"
      ]
     },
     "metadata": {},
     "output_type": "display_data"
    },
    {
     "data": {
      "text/html": [
       "<div style=\"margin-left: 20px;\"><pre>Output: 434*553=2212[2212]+16590[18802]+221200[2<span style=\"color: #FF0000; text-decoration: line-through;\">3</span>0002]=2<span style=\"color: #FF0000; text-decoration: line-through;\">3</span>0002</pre></div>"
      ],
      "text/plain": [
       "<IPython.core.display.HTML object>"
      ]
     },
     "metadata": {},
     "output_type": "display_data"
    },
    {
     "name": "stdout",
     "output_type": "stream",
     "text": [
      "Incorrect: 748*833=6664[6664]+33320[39984]+583100[623084]=623084\n"
     ]
    },
    {
     "data": {
      "text/html": [
       "<div style=\"margin-left: 20px;\"><pre>Target: 748*833=6664[6664]+33320[39984]+583100[623084]=623084</pre></div>"
      ],
      "text/plain": [
       "<IPython.core.display.HTML object>"
      ]
     },
     "metadata": {},
     "output_type": "display_data"
    },
    {
     "data": {
      "text/html": [
       "<div style=\"margin-left: 20px;\"><pre>Output: 748*833=6664[6664]+33320[<span style=\"color: #FF0000; text-decoration: line-through;\">4</span>9984]+583100[6<span style=\"color: #FF0000; text-decoration: line-through;\">3</span>3084]=6<span style=\"color: #FF0000; text-decoration: line-through;\">3</span>3084</pre></div>"
      ],
      "text/plain": [
       "<IPython.core.display.HTML object>"
      ]
     },
     "metadata": {},
     "output_type": "display_data"
    },
    {
     "name": "stdout",
     "output_type": "stream",
     "text": [
      "Incorrect: 924*649=2596[2596]+12980[15576]+584100[599676]=599676\n"
     ]
    },
    {
     "data": {
      "text/html": [
       "<div style=\"margin-left: 20px;\"><pre>Target: 924*649=2596[2596]+12980[15576]+584100[599676]=599676</pre></div>"
      ],
      "text/plain": [
       "<IPython.core.display.HTML object>"
      ]
     },
     "metadata": {},
     "output_type": "display_data"
    },
    {
     "data": {
      "text/html": [
       "<div style=\"margin-left: 20px;\"><pre>Output: 924*649=2596[2596]+12980[15576]+584100[<span style=\"color: #FF0000; text-decoration: line-through;\">6</span>99676]=<span style=\"color: #FF0000; text-decoration: line-through;\">6</span>99676</pre></div>"
      ],
      "text/plain": [
       "<IPython.core.display.HTML object>"
      ]
     },
     "metadata": {},
     "output_type": "display_data"
    },
    {
     "name": "stdout",
     "output_type": "stream",
     "text": [
      "Incorrect: 964*936=3744[3744]+56160[59904]+842400[902304]=902304\n"
     ]
    },
    {
     "data": {
      "text/html": [
       "<div style=\"margin-left: 20px;\"><pre>Target: 964*936=3744[3744]+56160[59904]+842400[902304]=902304</pre></div>"
      ],
      "text/plain": [
       "<IPython.core.display.HTML object>"
      ]
     },
     "metadata": {},
     "output_type": "display_data"
    },
    {
     "data": {
      "text/html": [
       "<div style=\"margin-left: 20px;\"><pre>Output: 964*936=3744[3744]+56160[<span style=\"color: #FF0000; text-decoration: line-through;\">6</span>9904]+842400[9<span style=\"color: #FF0000; text-decoration: line-through;\">1</span>2304]=9<span style=\"color: #FF0000; text-decoration: line-through;\">1</span>2304</pre></div>"
      ],
      "text/plain": [
       "<IPython.core.display.HTML object>"
      ]
     },
     "metadata": {},
     "output_type": "display_data"
    },
    {
     "name": "stdout",
     "output_type": "stream",
     "text": [
      "================================================================================\n",
      "\n",
      "\n",
      "\n",
      "================================================================================\n",
      "max_digits=3, sum_cot=True, reverse_cot=True\n",
      "================================================================================\n",
      "===== Training =====\n",
      "block_size=52\n",
      "tokens per iteration will be: 6,656\n",
      "Initializing a new model from scratch\n",
      "number of parameters: 1.18M\n",
      "num decayed parameter tensors: 26, with 1,188,352 parameters\n",
      "num non-decayed parameter tensors: 13, with 1,664 parameters\n",
      "using fused AdamW: True\n",
      "step 0: train loss 2.6965, val loss 2.6970, train acc 0.1836, val acc 0.1810\n",
      "iter 0: loss 2.6900, time 192.21ms, accuracy=0.184\n",
      "iter 500: loss 0.6905, time 23.33ms, accuracy=0.751\n",
      "step 1000: train loss 0.0752, val loss 0.0770, train acc 0.9788, val acc 0.9775\n",
      "iter 1000: loss 0.0822, time 193.81ms, accuracy=0.976\n",
      "iter 1500: loss 0.0138, time 25.56ms, accuracy=0.997\n",
      "step 2000: train loss 0.0062, val loss 0.0058, train acc 0.9984, val acc 0.9988\n",
      "iter 2000: loss 0.0045, time 193.35ms, accuracy=0.999\n",
      "iter 2500: loss 0.0015, time 8.73ms, accuracy=1.000\n",
      "step 3000: train loss 0.0006, val loss 0.0003, train acc 0.9999, val acc 1.0000\n",
      "iter 3000: loss 0.0007, time 118.23ms, accuracy=1.000\n",
      "iter 3500: loss 0.0000, time 9.66ms, accuracy=1.000\n",
      "step 4000: train loss 0.0000, val loss 0.0000, train acc 1.0000, val acc 1.0000\n",
      "iter 4000: loss 0.0000, time 115.80ms, accuracy=1.000\n",
      "iter 4500: loss 0.0000, time 15.52ms, accuracy=1.000\n",
      "step 5000: train loss 0.0000, val loss 0.0000, train acc 1.0000, val acc 1.0000\n",
      "iter 5000: loss 0.0000, time 104.21ms, accuracy=1.000\n",
      "\n",
      "\n",
      "===== Evaluation =====\n",
      "Auto-regressive Generation\n",
      "Sequence-Level Accuracy: 1.0000\n",
      "Character-Level Accuracy: 1.0000\n",
      "\n",
      "Examples of correct/incorrect sequences:\n",
      "Correct:   733*548=4461[4461]+04461[48081]+006383[486104]=401684\n",
      "Correct:   557*969=3876[3876]+05484[33255]+005484[337935]=539733\n",
      "Correct:   732*592=4811[4811]+06771[44981]+004414[443334]=433344\n",
      "Correct:   982*960=0291[0291]+00867[02787]+000468[027249]=942720\n",
      "Correct:   784*877=8053[8053]+06107[86637]+009316[865786]=687568\n",
      "================================================================================\n",
      "\n",
      "\n",
      "\n",
      "================================================================================\n",
      "max_digits=6, sum_cot=False, reverse_cot=False\n",
      "================================================================================\n",
      "===== Training =====\n",
      "block_size=25\n",
      "tokens per iteration will be: 3,200\n",
      "Initializing a new model from scratch\n",
      "number of parameters: 1.18M\n",
      "num decayed parameter tensors: 26, with 1,184,896 parameters\n",
      "num non-decayed parameter tensors: 13, with 1,664 parameters\n",
      "using fused AdamW: True\n",
      "step 0: train loss 2.8172, val loss 2.8107, train acc 0.1016, val acc 0.1022\n",
      "iter 0: loss 2.8151, time 118.87ms, accuracy=0.098\n",
      "iter 500: loss 2.0469, time 12.65ms, accuracy=0.190\n",
      "step 1000: train loss 1.9943, val loss 1.9877, train acc 0.2156, val acc 0.2213\n",
      "iter 1000: loss 1.9865, time 110.38ms, accuracy=0.213\n",
      "iter 1500: loss 1.9437, time 17.81ms, accuracy=0.233\n",
      "step 2000: train loss 1.8824, val loss 1.8855, train acc 0.2551, val acc 0.2581\n",
      "iter 2000: loss 1.8932, time 100.09ms, accuracy=0.253\n",
      "iter 2500: loss 1.8043, time 11.83ms, accuracy=0.290\n",
      "step 3000: train loss 1.7683, val loss 1.7691, train acc 0.3091, val acc 0.3039\n",
      "iter 3000: loss 1.7583, time 93.87ms, accuracy=0.303\n",
      "iter 3500: loss 1.7212, time 13.47ms, accuracy=0.318\n",
      "step 4000: train loss 1.6884, val loss 1.7018, train acc 0.3419, val acc 0.3312\n",
      "iter 4000: loss 1.6915, time 102.98ms, accuracy=0.335\n",
      "iter 4500: loss 1.6605, time 11.54ms, accuracy=0.348\n",
      "step 5000: train loss 1.6553, val loss 1.6679, train acc 0.3544, val acc 0.3504\n",
      "iter 5000: loss 1.6740, time 102.47ms, accuracy=0.342\n",
      "\n",
      "\n",
      "===== Evaluation =====\n",
      "Auto-regressive Generation\n",
      "Sequence-Level Accuracy: 0.0000\n",
      "Character-Level Accuracy: 0.3252\n",
      "\n",
      "Examples of correct/incorrect sequences:\n",
      "Incorrect:  12901*522966=6746784366  \n"
     ]
    },
    {
     "data": {
      "text/html": [
       "<div style=\"margin-left: 20px;\"><pre>Target:  12901*522966=6746784366  </pre></div>"
      ],
      "text/plain": [
       "<IPython.core.display.HTML object>"
      ]
     },
     "metadata": {},
     "output_type": "display_data"
    },
    {
     "data": {
      "text/html": [
       "<div style=\"margin-left: 20px;\"><pre>Output:  12901*522966=67<span style=\"color: #FF0000; text-decoration: line-through;\">2</span><span style=\"color: #FF0000; text-decoration: line-through;\">2</span><span style=\"color: #FF0000; text-decoration: line-through;\">9</span><span style=\"color: #FF0000; text-decoration: line-through;\">2</span><span style=\"color: #FF0000; text-decoration: line-through;\">9</span><span style=\"color: #FF0000; text-decoration: line-through;\">9</span><span style=\"color: #FF0000; text-decoration: line-through;\">8</span>6  </pre></div>"
      ],
      "text/plain": [
       "<IPython.core.display.HTML object>"
      ]
     },
     "metadata": {},
     "output_type": "display_data"
    },
    {
     "name": "stdout",
     "output_type": "stream",
     "text": [
      "Incorrect: 436423*888037=387559771651\n"
     ]
    },
    {
     "data": {
      "text/html": [
       "<div style=\"margin-left: 20px;\"><pre>Target: 436423*888037=387559771651</pre></div>"
      ],
      "text/plain": [
       "<IPython.core.display.HTML object>"
      ]
     },
     "metadata": {},
     "output_type": "display_data"
    },
    {
     "data": {
      "text/html": [
       "<div style=\"margin-left: 20px;\"><pre>Output: 436423*888037=38<span style=\"color: #FF0000; text-decoration: line-through;\">8</span><span style=\"color: #FF0000; text-decoration: line-through;\">8</span><span style=\"color: #FF0000; text-decoration: line-through;\">8</span><span style=\"color: #FF0000; text-decoration: line-through;\">8</span><span style=\"color: #FF0000; text-decoration: line-through;\">8</span><span style=\"color: #FF0000; text-decoration: line-through;\">8</span><span style=\"color: #FF0000; text-decoration: line-through;\">4</span><span style=\"color: #FF0000; text-decoration: line-through;\">4</span><span style=\"color: #FF0000; text-decoration: line-through;\">9</span>1</pre></div>"
      ],
      "text/plain": [
       "<IPython.core.display.HTML object>"
      ]
     },
     "metadata": {},
     "output_type": "display_data"
    },
    {
     "name": "stdout",
     "output_type": "stream",
     "text": [
      "Incorrect: 101586*724300=73578739800 \n"
     ]
    },
    {
     "data": {
      "text/html": [
       "<div style=\"margin-left: 20px;\"><pre>Target: 101586*724300=73578739800 </pre></div>"
      ],
      "text/plain": [
       "<IPython.core.display.HTML object>"
      ]
     },
     "metadata": {},
     "output_type": "display_data"
    },
    {
     "data": {
      "text/html": [
       "<div style=\"margin-left: 20px;\"><pre>Output: 101586*724300=7<span style=\"color: #FF0000; text-decoration: line-through;\">4</span><span style=\"color: #FF0000; text-decoration: line-through;\">9</span><span style=\"color: #FF0000; text-decoration: line-through;\">2</span>8<span style=\"color: #FF0000; text-decoration: line-through;\">8</span><span style=\"color: #FF0000; text-decoration: line-through;\">8</span><span style=\"color: #FF0000; text-decoration: line-through;\">8</span>800 </pre></div>"
      ],
      "text/plain": [
       "<IPython.core.display.HTML object>"
      ]
     },
     "metadata": {},
     "output_type": "display_data"
    },
    {
     "name": "stdout",
     "output_type": "stream",
     "text": [
      "Incorrect: 697557*730264=509400765048\n"
     ]
    },
    {
     "data": {
      "text/html": [
       "<div style=\"margin-left: 20px;\"><pre>Target: 697557*730264=509400765048</pre></div>"
      ],
      "text/plain": [
       "<IPython.core.display.HTML object>"
      ]
     },
     "metadata": {},
     "output_type": "display_data"
    },
    {
     "data": {
      "text/html": [
       "<div style=\"margin-left: 20px;\"><pre>Output: 697557*730264=50<span style=\"color: #FF0000; text-decoration: line-through;\">6</span><span style=\"color: #FF0000; text-decoration: line-through;\">6</span><span style=\"color: #FF0000; text-decoration: line-through;\">6</span>0<span style=\"color: #FF0000; text-decoration: line-through;\">6</span><span style=\"color: #FF0000; text-decoration: line-through;\">2</span><span style=\"color: #FF0000; text-decoration: line-through;\">2</span><span style=\"color: #FF0000; text-decoration: line-through;\">2</span><span style=\"color: #FF0000; text-decoration: line-through;\">5</span>8</pre></div>"
      ],
      "text/plain": [
       "<IPython.core.display.HTML object>"
      ]
     },
     "metadata": {},
     "output_type": "display_data"
    },
    {
     "name": "stdout",
     "output_type": "stream",
     "text": [
      "Incorrect:   5571*384492=2142004932  \n"
     ]
    },
    {
     "data": {
      "text/html": [
       "<div style=\"margin-left: 20px;\"><pre>Target:   5571*384492=2142004932  </pre></div>"
      ],
      "text/plain": [
       "<IPython.core.display.HTML object>"
      ]
     },
     "metadata": {},
     "output_type": "display_data"
    },
    {
     "data": {
      "text/html": [
       "<div style=\"margin-left: 20px;\"><pre>Output:   5571*384492=21<span style=\"color: #FF0000; text-decoration: line-through;\">8</span><span style=\"color: #FF0000; text-decoration: line-through;\">8</span><span style=\"color: #FF0000; text-decoration: line-through;\">8</span><span style=\"color: #FF0000; text-decoration: line-through;\">8</span><span style=\"color: #FF0000; text-decoration: line-through;\">8</span><span style=\"color: #FF0000; text-decoration: line-through;\">0</span><span style=\"color: #FF0000; text-decoration: line-through;\">1</span>2  </pre></div>"
      ],
      "text/plain": [
       "<IPython.core.display.HTML object>"
      ]
     },
     "metadata": {},
     "output_type": "display_data"
    },
    {
     "name": "stdout",
     "output_type": "stream",
     "text": [
      "================================================================================\n",
      "\n",
      "\n",
      "\n",
      "================================================================================\n",
      "max_digits=6, sum_cot=False, reverse_cot=True\n",
      "================================================================================\n",
      "===== Training =====\n",
      "block_size=38\n",
      "tokens per iteration will be: 4,864\n",
      "Initializing a new model from scratch\n",
      "number of parameters: 1.18M\n",
      "num decayed parameter tensors: 26, with 1,186,560 parameters\n",
      "num non-decayed parameter tensors: 13, with 1,664 parameters\n",
      "using fused AdamW: True\n",
      "step 0: train loss 2.7949, val loss 2.7888, train acc 0.1077, val acc 0.1137\n",
      "iter 0: loss 2.8118, time 137.85ms, accuracy=0.092\n",
      "iter 500: loss 0.9608, time 22.18ms, accuracy=0.630\n",
      "step 1000: train loss 0.9181, val loss 0.9147, train acc 0.6443, val acc 0.6429\n",
      "iter 1000: loss 0.9202, time 96.32ms, accuracy=0.645\n",
      "iter 1500: loss 0.9072, time 13.11ms, accuracy=0.645\n",
      "step 2000: train loss 0.8569, val loss 0.8628, train acc 0.6655, val acc 0.6582\n",
      "iter 2000: loss 0.8570, time 97.89ms, accuracy=0.666\n",
      "iter 2500: loss 0.8185, time 14.32ms, accuracy=0.679\n",
      "step 3000: train loss 0.8031, val loss 0.8044, train acc 0.6859, val acc 0.6862\n",
      "iter 3000: loss 0.8069, time 88.94ms, accuracy=0.685\n",
      "iter 3500: loss 0.7835, time 12.43ms, accuracy=0.686\n",
      "step 4000: train loss 0.7742, val loss 0.7745, train acc 0.6947, val acc 0.6907\n",
      "iter 4000: loss 0.7726, time 93.44ms, accuracy=0.692\n",
      "iter 4500: loss 0.7839, time 9.64ms, accuracy=0.692\n",
      "step 5000: train loss 0.7687, val loss 0.7684, train acc 0.6938, val acc 0.6940\n",
      "iter 5000: loss 0.7748, time 92.78ms, accuracy=0.692\n",
      "\n",
      "\n",
      "===== Evaluation =====\n",
      "Auto-regressive Generation\n",
      "Sequence-Level Accuracy: 0.0000\n",
      "Character-Level Accuracy: 0.3442\n",
      "\n",
      "Examples of correct/incorrect sequences:\n",
      "Incorrect:  12901*522966=6634876476=6746784366    \n"
     ]
    },
    {
     "data": {
      "text/html": [
       "<div style=\"margin-left: 20px;\"><pre>Target:  12901*522966=6634876476=6746784366    </pre></div>"
      ],
      "text/plain": [
       "<IPython.core.display.HTML object>"
      ]
     },
     "metadata": {},
     "output_type": "display_data"
    },
    {
     "data": {
      "text/html": [
       "<div style=\"margin-left: 20px;\"><pre>Output:  12901*522966=6<span style=\"color: #FF0000; text-decoration: line-through;\">2</span><span style=\"color: #FF0000; text-decoration: line-through;\">9</span><span style=\"color: #FF0000; text-decoration: line-through;\">9</span><span style=\"color: #FF0000; text-decoration: line-through;\">9</span><span style=\"color: #FF0000; text-decoration: line-through;\">9</span><span style=\"color: #FF0000; text-decoration: line-through;\">9</span>4<span style=\"color: #FF0000; text-decoration: line-through;\">2</span>6=6<span style=\"color: #FF0000; text-decoration: line-through;\">2</span>4<span style=\"color: #FF0000; text-decoration: line-through;\">9</span><span style=\"color: #FF0000; text-decoration: line-through;\">9</span><span style=\"color: #FF0000; text-decoration: line-through;\">9</span><span style=\"color: #FF0000; text-decoration: line-through;\">9</span><span style=\"color: #FF0000; text-decoration: line-through;\">9</span><span style=\"color: #FF0000; text-decoration: line-through;\">2</span>6    </pre></div>"
      ],
      "text/plain": [
       "<IPython.core.display.HTML object>"
      ]
     },
     "metadata": {},
     "output_type": "display_data"
    },
    {
     "name": "stdout",
     "output_type": "stream",
     "text": [
      "Incorrect: 436423*888037=156177955783=387559771651\n"
     ]
    },
    {
     "data": {
      "text/html": [
       "<div style=\"margin-left: 20px;\"><pre>Target: 436423*888037=156177955783=387559771651</pre></div>"
      ],
      "text/plain": [
       "<IPython.core.display.HTML object>"
      ]
     },
     "metadata": {},
     "output_type": "display_data"
    },
    {
     "data": {
      "text/html": [
       "<div style=\"margin-left: 20px;\"><pre>Output: 436423*888037=1<span style=\"color: #FF0000; text-decoration: line-through;\">3</span><span style=\"color: #FF0000; text-decoration: line-through;\">0</span><span style=\"color: #FF0000; text-decoration: line-through;\">0</span><span style=\"color: #FF0000; text-decoration: line-through;\">0</span><span style=\"color: #FF0000; text-decoration: line-through;\">0</span><span style=\"color: #FF0000; text-decoration: line-through;\">0</span><span style=\"color: #FF0000; text-decoration: line-through;\">0</span><span style=\"color: #FF0000; text-decoration: line-through;\">0</span><span style=\"color: #FF0000; text-decoration: line-through;\">0</span><span style=\"color: #FF0000; text-decoration: line-through;\">9</span>3=3<span style=\"color: #FF0000; text-decoration: line-through;\">9</span><span style=\"color: #FF0000; text-decoration: line-through;\">0</span><span style=\"color: #FF0000; text-decoration: line-through;\">0</span><span style=\"color: #FF0000; text-decoration: line-through;\">0</span><span style=\"color: #FF0000; text-decoration: line-through;\">0</span><span style=\"color: #FF0000; text-decoration: line-through;\">0</span><span style=\"color: #FF0000; text-decoration: line-through;\">0</span><span style=\"color: #FF0000; text-decoration: line-through;\">0</span><span style=\"color: #FF0000; text-decoration: line-through;\">0</span><span style=\"color: #FF0000; text-decoration: line-through;\">3</span>1</pre></div>"
      ],
      "text/plain": [
       "<IPython.core.display.HTML object>"
      ]
     },
     "metadata": {},
     "output_type": "display_data"
    },
    {
     "name": "stdout",
     "output_type": "stream",
     "text": [
      "Incorrect: 101586*724300=00893787537=73578739800  \n"
     ]
    },
    {
     "data": {
      "text/html": [
       "<div style=\"margin-left: 20px;\"><pre>Target: 101586*724300=00893787537=73578739800  </pre></div>"
      ],
      "text/plain": [
       "<IPython.core.display.HTML object>"
      ]
     },
     "metadata": {},
     "output_type": "display_data"
    },
    {
     "data": {
      "text/html": [
       "<div style=\"margin-left: 20px;\"><pre>Output: 101586*724300=00<span style=\"color: #FF0000; text-decoration: line-through;\">0</span><span style=\"color: #FF0000; text-decoration: line-through;\">8</span><span style=\"color: #FF0000; text-decoration: line-through;\">7</span><span style=\"color: #FF0000; text-decoration: line-through;\">0</span><span style=\"color: #FF0000; text-decoration: line-through;\">0</span><span style=\"color: #FF0000; text-decoration: line-through;\">0</span><span style=\"color: #FF0000; text-decoration: line-through;\">2</span><span style=\"color: #FF0000; text-decoration: line-through;\">2</span>7=7<span style=\"color: #FF0000; text-decoration: line-through;\">2</span><span style=\"color: #FF0000; text-decoration: line-through;\">2</span><span style=\"color: #FF0000; text-decoration: line-through;\">0</span><span style=\"color: #FF0000; text-decoration: line-through;\">0</span><span style=\"color: #FF0000; text-decoration: line-through;\">0</span><span style=\"color: #FF0000; text-decoration: line-through;\">7</span><span style=\"color: #FF0000; text-decoration: line-through;\">8</span><span style=\"color: #FF0000; text-decoration: line-through;\">0</span>00  </pre></div>"
      ],
      "text/plain": [
       "<IPython.core.display.HTML object>"
      ]
     },
     "metadata": {},
     "output_type": "display_data"
    },
    {
     "name": "stdout",
     "output_type": "stream",
     "text": [
      "Incorrect: 697557*730264=840567004905=509400765048\n"
     ]
    },
    {
     "data": {
      "text/html": [
       "<div style=\"margin-left: 20px;\"><pre>Target: 697557*730264=840567004905=509400765048</pre></div>"
      ],
      "text/plain": [
       "<IPython.core.display.HTML object>"
      ]
     },
     "metadata": {},
     "output_type": "display_data"
    },
    {
     "data": {
      "text/html": [
       "<div style=\"margin-left: 20px;\"><pre>Output: 697557*730264=8<span style=\"color: #FF0000; text-decoration: line-through;\">2</span><span style=\"color: #FF0000; text-decoration: line-through;\">9</span><span style=\"color: #FF0000; text-decoration: line-through;\">9</span><span style=\"color: #FF0000; text-decoration: line-through;\">9</span><span style=\"color: #FF0000; text-decoration: line-through;\">4</span><span style=\"color: #FF0000; text-decoration: line-through;\">4</span><span style=\"color: #FF0000; text-decoration: line-through;\">4</span>4<span style=\"color: #FF0000; text-decoration: line-through;\">4</span><span style=\"color: #FF0000; text-decoration: line-through;\">1</span>5=5<span style=\"color: #FF0000; text-decoration: line-through;\">1</span><span style=\"color: #FF0000; text-decoration: line-through;\">4</span>4<span style=\"color: #FF0000; text-decoration: line-through;\">4</span><span style=\"color: #FF0000; text-decoration: line-through;\">4</span><span style=\"color: #FF0000; text-decoration: line-through;\">4</span><span style=\"color: #FF0000; text-decoration: line-through;\">9</span><span style=\"color: #FF0000; text-decoration: line-through;\">9</span><span style=\"color: #FF0000; text-decoration: line-through;\">9</span><span style=\"color: #FF0000; text-decoration: line-through;\">2</span>8</pre></div>"
      ],
      "text/plain": [
       "<IPython.core.display.HTML object>"
      ]
     },
     "metadata": {},
     "output_type": "display_data"
    },
    {
     "name": "stdout",
     "output_type": "stream",
     "text": [
      "Incorrect:   5571*384492=2394002412=2142004932    \n"
     ]
    },
    {
     "data": {
      "text/html": [
       "<div style=\"margin-left: 20px;\"><pre>Target:   5571*384492=2394002412=2142004932    </pre></div>"
      ],
      "text/plain": [
       "<IPython.core.display.HTML object>"
      ]
     },
     "metadata": {},
     "output_type": "display_data"
    },
    {
     "data": {
      "text/html": [
       "<div style=\"margin-left: 20px;\"><pre>Output:   5571*384492=2<span style=\"color: #FF0000; text-decoration: line-through;\">1</span>9<span style=\"color: #FF0000; text-decoration: line-through;\">9</span><span style=\"color: #FF0000; text-decoration: line-through;\">9</span><span style=\"color: #FF0000; text-decoration: line-through;\">4</span><span style=\"color: #FF0000; text-decoration: line-through;\">4</span>412=214<span style=\"color: #FF0000; text-decoration: line-through;\">4</span><span style=\"color: #FF0000; text-decoration: line-through;\">4</span><span style=\"color: #FF0000; text-decoration: line-through;\">9</span><span style=\"color: #FF0000; text-decoration: line-through;\">9</span>9<span style=\"color: #FF0000; text-decoration: line-through;\">1</span>2    </pre></div>"
      ],
      "text/plain": [
       "<IPython.core.display.HTML object>"
      ]
     },
     "metadata": {},
     "output_type": "display_data"
    },
    {
     "name": "stdout",
     "output_type": "stream",
     "text": [
      "================================================================================\n",
      "\n",
      "\n",
      "\n",
      "================================================================================\n",
      "max_digits=6, sum_cot=True, reverse_cot=False\n",
      "================================================================================\n",
      "===== Training =====\n",
      "block_size=157\n",
      "tokens per iteration will be: 20,096\n",
      "Initializing a new model from scratch\n",
      "number of parameters: 1.18M\n",
      "num decayed parameter tensors: 26, with 1,201,792 parameters\n",
      "num non-decayed parameter tensors: 13, with 1,664 parameters\n",
      "using fused AdamW: True\n",
      "step 0: train loss 2.6351, val loss 2.6408, train acc 0.2160, val acc 0.2121\n",
      "iter 0: loss 2.6352, time 358.31ms, accuracy=0.215\n",
      "iter 500: loss 1.2961, time 30.89ms, accuracy=0.543\n",
      "step 1000: train loss 0.8874, val loss 0.8893, train acc 0.6717, val acc 0.6708\n",
      "iter 1000: loss 0.9060, time 286.91ms, accuracy=0.664\n",
      "iter 1500: loss 0.1763, time 30.28ms, accuracy=0.937\n",
      "step 2000: train loss 0.0408, val loss 0.0379, train acc 0.9863, val acc 0.9868\n",
      "iter 2000: loss 0.0446, time 277.44ms, accuracy=0.985\n",
      "iter 2500: loss 0.0563, time 29.03ms, accuracy=0.986\n",
      "step 3000: train loss 0.0173, val loss 0.0231, train acc 0.9944, val acc 0.9930\n",
      "iter 3000: loss 0.0249, time 288.82ms, accuracy=0.993\n",
      "iter 3500: loss 0.0085, time 31.91ms, accuracy=0.997\n",
      "step 4000: train loss 0.0040, val loss 0.0055, train acc 0.9986, val acc 0.9981\n",
      "iter 4000: loss 0.0029, time 279.23ms, accuracy=0.999\n",
      "iter 4500: loss 0.0013, time 30.90ms, accuracy=1.000\n",
      "step 5000: train loss 0.0011, val loss 0.0014, train acc 0.9997, val acc 0.9994\n",
      "iter 5000: loss 0.0020, time 280.01ms, accuracy=0.999\n",
      "\n",
      "\n",
      "===== Evaluation =====\n",
      "Auto-regressive Generation\n",
      "Sequence-Level Accuracy: 0.9330\n",
      "Character-Level Accuracy: 0.9967\n",
      "\n",
      "Examples of correct/incorrect sequences:\n",
      "Correct:    12901*522966=522966[522966]+0[522966]+470669400[471192366]+1045932000[1517124366]+5229660000[6746784366]+                                                    \n",
      "Correct:   436423*888037=2664111[2664111]+17760740[20424851]+355214800[375639651]+5328222000[5703861651]+26641110000[32344971651]+355214800000[387559771651]=387559771651\n",
      "Correct:   101586*724300=4345800[4345800]+57944000[62289800]+362150000[424439800]+724300000[1148739800]+0[1148739800]+72430000000[73578739800]=73578739800               \n",
      "Correct:   697557*730264=5111848[5111848]+36513200[41625048]+365132000[406757048]+5111848000[5518605048]+65723760000[71242365048]+438158400000[509400765048]=509400765048\n",
      "Correct:     5571*384492=384492[384492]+26914440[27298932]+192246000[219544932]+1922460000[2142004932]+                                                                  \n",
      "Incorrect: 432453*377790=1133370[1133370]+18889500[20022870]+151116000[171138870]+755580000[926718870]+11333700000[12260418870]+151116000000[163376418870]=163376418870  \n"
     ]
    },
    {
     "data": {
      "text/html": [
       "<div style=\"margin-left: 20px;\"><pre>Target: 432453*377790=1133370[1133370]+18889500[20022870]+151116000[171138870]+755580000[926718870]+11333700000[12260418870]+151116000000[163376418870]=163376418870  </pre></div>"
      ],
      "text/plain": [
       "<IPython.core.display.HTML object>"
      ]
     },
     "metadata": {},
     "output_type": "display_data"
    },
    {
     "data": {
      "text/html": [
       "<div style=\"margin-left: 20px;\"><pre>Output: 432453*377790=1133370[1133370]+18889500[<span style=\"color: #FF0000; text-decoration: line-through;\">1</span>0022870]+151116000[1<span style=\"color: #FF0000; text-decoration: line-through;\">6</span>1138870]+755580000[9<span style=\"color: #FF0000; text-decoration: line-through;\">1</span>6718870]+11333700000[122<span style=\"color: #FF0000; text-decoration: line-through;\">5</span>0418870]+151116000000[1633<span style=\"color: #FF0000; text-decoration: line-through;\">6</span>6418870]=1633<span style=\"color: #FF0000; text-decoration: line-through;\">6</span>6418870  </pre></div>"
      ],
      "text/plain": [
       "<IPython.core.display.HTML object>"
      ]
     },
     "metadata": {},
     "output_type": "display_data"
    },
    {
     "name": "stdout",
     "output_type": "stream",
     "text": [
      "Incorrect:  802810*37687=0[0]+376870[376870]+30149600[30526470]+75374000[105900470]+0[105900470]+30149600000[30255500470]=30255500470                                    \n"
     ]
    },
    {
     "data": {
      "text/html": [
       "<div style=\"margin-left: 20px;\"><pre>Target:  802810*37687=0[0]+376870[376870]+30149600[30526470]+75374000[105900470]+0[105900470]+30149600000[30255500470]=30255500470                                    </pre></div>"
      ],
      "text/plain": [
       "<IPython.core.display.HTML object>"
      ]
     },
     "metadata": {},
     "output_type": "display_data"
    },
    {
     "data": {
      "text/html": [
       "<div style=\"margin-left: 20px;\"><pre>Output:  802810*37687=0[0]+376870[376870]+301<span style=\"color: #FF0000; text-decoration: line-through;\">5</span><span style=\"color: #FF0000; text-decoration: line-through;\">0</span><span style=\"color: #FF0000; text-decoration: line-through;\">8</span>00[3052<span style=\"color: #FF0000; text-decoration: line-through;\">7</span><span style=\"color: #FF0000; text-decoration: line-through;\">6</span>70]+75374000[10590<span style=\"color: #FF0000; text-decoration: line-through;\">1</span><span style=\"color: #FF0000; text-decoration: line-through;\">6</span>70]+0[10590<span style=\"color: #FF0000; text-decoration: line-through;\">1</span><span style=\"color: #FF0000; text-decoration: line-through;\">6</span>70]+301<span style=\"color: #FF0000; text-decoration: line-through;\">5</span><span style=\"color: #FF0000; text-decoration: line-through;\">0</span><span style=\"color: #FF0000; text-decoration: line-through;\">8</span>00000[3025<span style=\"color: #FF0000; text-decoration: line-through;\">6</span><span style=\"color: #FF0000; text-decoration: line-through;\">7</span>0<span style=\"color: #FF0000; text-decoration: line-through;\">1</span><span style=\"color: #FF0000; text-decoration: line-through;\">6</span>70]=3025<span style=\"color: #FF0000; text-decoration: line-through;\">6</span><span style=\"color: #FF0000; text-decoration: line-through;\">7</span>0<span style=\"color: #FF0000; text-decoration: line-through;\">1</span><span style=\"color: #FF0000; text-decoration: line-through;\">6</span>70                                    </pre></div>"
      ],
      "text/plain": [
       "<IPython.core.display.HTML object>"
      ]
     },
     "metadata": {},
     "output_type": "display_data"
    },
    {
     "name": "stdout",
     "output_type": "stream",
     "text": [
      "Incorrect: 629032*995729=1991458[1991458]+29871870[31863328]+0[31863328]+8961561000[8993424328]+19914580000[28908004328]+597437400000[626345404328]=626345404328         \n"
     ]
    },
    {
     "data": {
      "text/html": [
       "<div style=\"margin-left: 20px;\"><pre>Target: 629032*995729=1991458[1991458]+29871870[31863328]+0[31863328]+8961561000[8993424328]+19914580000[28908004328]+597437400000[626345404328]=626345404328         </pre></div>"
      ],
      "text/plain": [
       "<IPython.core.display.HTML object>"
      ]
     },
     "metadata": {},
     "output_type": "display_data"
    },
    {
     "data": {
      "text/html": [
       "<div style=\"margin-left: 20px;\"><pre>Output: 629032*995729=1991458[1991458]+29871870[31863328]+0[31863328]+8961561000[<span style=\"color: #FF0000; text-decoration: line-through;\">9</span>993424328]+19914580000[2<span style=\"color: #FF0000; text-decoration: line-through;\">9</span>908004328]+597437400000[62<span style=\"color: #FF0000; text-decoration: line-through;\">7</span>345404328]=62<span style=\"color: #FF0000; text-decoration: line-through;\">7</span>345404328         </pre></div>"
      ],
      "text/plain": [
       "<IPython.core.display.HTML object>"
      ]
     },
     "metadata": {},
     "output_type": "display_data"
    },
    {
     "name": "stdout",
     "output_type": "stream",
     "text": [
      "Incorrect: 207649*113170=1018530[1018530]+4526800[5545330]+67902000[73447330]+792190000[865637330]+0[865637330]+22634000000[23499637330]=23499637330                     \n"
     ]
    },
    {
     "data": {
      "text/html": [
       "<div style=\"margin-left: 20px;\"><pre>Target: 207649*113170=1018530[1018530]+4526800[5545330]+67902000[73447330]+792190000[865637330]+0[865637330]+22634000000[23499637330]=23499637330                     </pre></div>"
      ],
      "text/plain": [
       "<IPython.core.display.HTML object>"
      ]
     },
     "metadata": {},
     "output_type": "display_data"
    },
    {
     "data": {
      "text/html": [
       "<div style=\"margin-left: 20px;\"><pre>Output: 207649*113170=1018530[1018530]+4526800[5545330]+67902000[73447330]+792190000[865637330]+0[865637330]+22634000000[23<span style=\"color: #FF0000; text-decoration: line-through;\">5</span>99637330]=23<span style=\"color: #FF0000; text-decoration: line-through;\">5</span>99637330                     </pre></div>"
      ],
      "text/plain": [
       "<IPython.core.display.HTML object>"
      ]
     },
     "metadata": {},
     "output_type": "display_data"
    },
    {
     "name": "stdout",
     "output_type": "stream",
     "text": [
      "Incorrect:    996125*500=2500[2500]+10000[12500]+50000[62500]+3000000[3062500]+45000000[48062500]+450000000[498062500]=498062500                                         \n"
     ]
    },
    {
     "data": {
      "text/html": [
       "<div style=\"margin-left: 20px;\"><pre>Target:    996125*500=2500[2500]+10000[12500]+50000[62500]+3000000[3062500]+45000000[48062500]+450000000[498062500]=498062500                                         </pre></div>"
      ],
      "text/plain": [
       "<IPython.core.display.HTML object>"
      ]
     },
     "metadata": {},
     "output_type": "display_data"
    },
    {
     "data": {
      "text/html": [
       "<div style=\"margin-left: 20px;\"><pre>Output:    996125*500=<span style=\"color: #FF0000; text-decoration: line-through;\">1</span><span style=\"color: #FF0000; text-decoration: line-through;\">0</span>00[<span style=\"color: #FF0000; text-decoration: line-through;\">1</span><span style=\"color: #FF0000; text-decoration: line-through;\">0</span>00]+10000[1<span style=\"color: #FF0000; text-decoration: line-through;\">1</span><span style=\"color: #FF0000; text-decoration: line-through;\">0</span>00]+50000[6<span style=\"color: #FF0000; text-decoration: line-through;\">1</span><span style=\"color: #FF0000; text-decoration: line-through;\">0</span>00]+3000000[306<span style=\"color: #FF0000; text-decoration: line-through;\">1</span><span style=\"color: #FF0000; text-decoration: line-through;\">0</span>00]+45000000[4806<span style=\"color: #FF0000; text-decoration: line-through;\">1</span><span style=\"color: #FF0000; text-decoration: line-through;\">0</span>00]+450000000[49806<span style=\"color: #FF0000; text-decoration: line-through;\">1</span><span style=\"color: #FF0000; text-decoration: line-through;\">0</span>00]=49806<span style=\"color: #FF0000; text-decoration: line-through;\">1</span><span style=\"color: #FF0000; text-decoration: line-through;\">0</span>00                                         </pre></div>"
      ],
      "text/plain": [
       "<IPython.core.display.HTML object>"
      ]
     },
     "metadata": {},
     "output_type": "display_data"
    },
    {
     "name": "stdout",
     "output_type": "stream",
     "text": [
      "================================================================================\n",
      "\n",
      "\n",
      "\n",
      "================================================================================\n",
      "max_digits=6, sum_cot=True, reverse_cot=True\n",
      "================================================================================\n",
      "===== Training =====\n",
      "block_size=157\n",
      "tokens per iteration will be: 20,096\n",
      "Initializing a new model from scratch\n",
      "number of parameters: 1.18M\n",
      "num decayed parameter tensors: 26, with 1,201,792 parameters\n",
      "num non-decayed parameter tensors: 13, with 1,664 parameters\n",
      "using fused AdamW: True\n",
      "step 0: train loss 2.6452, val loss 2.6511, train acc 0.2160, val acc 0.2120\n",
      "iter 0: loss 2.6440, time 466.24ms, accuracy=0.215\n",
      "iter 500: loss 1.3032, time 47.49ms, accuracy=0.530\n",
      "step 1000: train loss 0.5681, val loss 0.5590, train acc 0.7960, val acc 0.7995\n",
      "iter 1000: loss 0.5714, time 343.73ms, accuracy=0.794\n",
      "iter 1500: loss 0.0662, time 42.63ms, accuracy=0.982\n",
      "step 2000: train loss 0.0221, val loss 0.0213, train acc 0.9936, val acc 0.9942\n",
      "iter 2000: loss 0.0185, time 537.05ms, accuracy=0.995\n",
      "iter 2500: loss 0.0045, time 34.38ms, accuracy=0.999\n",
      "step 3000: train loss 0.0018, val loss 0.0022, train acc 0.9995, val acc 0.9995\n",
      "iter 3000: loss 0.0034, time 420.63ms, accuracy=0.999\n",
      "iter 3500: loss 0.0002, time 47.19ms, accuracy=1.000\n",
      "step 4000: train loss 0.0002, val loss 0.0010, train acc 0.9999, val acc 0.9998\n",
      "iter 4000: loss 0.0004, time 383.37ms, accuracy=1.000\n",
      "iter 4500: loss 0.0000, time 26.55ms, accuracy=1.000\n",
      "step 5000: train loss 0.0000, val loss 0.0000, train acc 1.0000, val acc 1.0000\n",
      "iter 5000: loss 0.0000, time 341.95ms, accuracy=1.000\n",
      "\n",
      "\n",
      "===== Evaluation =====\n",
      "Auto-regressive Generation\n",
      "Sequence-Level Accuracy: 0.9980\n",
      "Character-Level Accuracy: 0.9990\n",
      "\n",
      "Examples of correct/incorrect sequences:\n",
      "Correct:    12901*522966=669225[669225]+0[669225]+004966074[663291174]+0002395401[6634217151]+0000669225[6634876476]+                                                    \n",
      "Correct:   436423*888037=1114662[1114662]+04706771[15842402]+008412553[156936573]+0002228235[1561683075]+00001114662[15617944323]+000008412553[156177955783]=387559771651\n",
      "Correct:   101586*724300=0085434[0085434]+00044975[00898226]+000051263[008934424]+000003427[0089378411]+0[0089378411]+00000003427[00893787537]=73578739800               \n",
      "Correct:   697557*730264=8481115[8481115]+00231563[84052614]+000231563[840757604]+0008481115[8405068155]+00006732756[84056324217]+000004851834[840567004905]=509400765048\n",
      "Correct:     5571*384492=294483[294483]+04441962[23989272]+000642291[239445912]+0000642291[2394002412]+                                                                  \n",
      "Incorrect:    996125*500=0052[0052]+00001[00521]+00005[00526]+0000003[0052603]+00000054[00526084]+000000054[005260894]=498062500                                         \n"
     ]
    },
    {
     "data": {
      "text/html": [
       "<div style=\"margin-left: 20px;\"><pre>Target:    996125*500=0052[0052]+00001[00521]+00005[00526]+0000003[0052603]+00000054[00526084]+000000054[005260894]=498062500                                         </pre></div>"
      ],
      "text/plain": [
       "<IPython.core.display.HTML object>"
      ]
     },
     "metadata": {},
     "output_type": "display_data"
    },
    {
     "data": {
      "text/html": [
       "<div style=\"margin-left: 20px;\"><pre>Output:    996125*500=0052[0052]+000<span style=\"color: #FF0000; text-decoration: line-through;\">5</span><span style=\"color: #FF0000; text-decoration: line-through;\">[</span><span style=\"color: #FF0000; text-decoration: line-through;\">0</span>0<span style=\"color: #FF0000; text-decoration: line-through;\">5</span><span style=\"color: #FF0000; text-decoration: line-through;\">7</span><span style=\"color: #FF0000; text-decoration: line-through;\">]</span><span style=\"color: #FF0000; text-decoration: line-through;\">+</span><span style=\"color: #FF0000; text-decoration: line-through;\">0</span><span style=\"color: #FF0000; text-decoration: line-through;\">0</span>00<span style=\"color: #FF0000; text-decoration: line-through;\">5</span><span style=\"color: #FF0000; text-decoration: line-through;\">[</span><span style=\"color: #FF0000; text-decoration: line-through;\">0</span><span style=\"color: #FF0000; text-decoration: line-through;\">0</span><span style=\"color: #FF0000; text-decoration: line-through;\">5</span><span style=\"color: #FF0000; text-decoration: line-through;\">7</span>5<span style=\"color: #FF0000; text-decoration: line-through;\">]</span><span style=\"color: #FF0000; text-decoration: line-through;\">+</span><span style=\"color: #FF0000; text-decoration: line-through;\">0</span><span style=\"color: #FF0000; text-decoration: line-through;\">0</span>0000<span style=\"color: #FF0000; text-decoration: line-through;\">3</span><span style=\"color: #FF0000; text-decoration: line-through;\">[</span><span style=\"color: #FF0000; text-decoration: line-through;\">0</span><span style=\"color: #FF0000; text-decoration: line-through;\">0</span><span style=\"color: #FF0000; text-decoration: line-through;\">5</span><span style=\"color: #FF0000; text-decoration: line-through;\">7</span>5<span style=\"color: #FF0000; text-decoration: line-through;\">0</span><span style=\"color: #FF0000; text-decoration: line-through;\">3</span><span style=\"color: #FF0000; text-decoration: line-through;\">]</span><span style=\"color: #FF0000; text-decoration: line-through;\">+</span><span style=\"color: #FF0000; text-decoration: line-through;\">0</span><span style=\"color: #FF0000; text-decoration: line-through;\">0</span>0000<span style=\"color: #FF0000; text-decoration: line-through;\">5</span><span style=\"color: #FF0000; text-decoration: line-through;\">4</span><span style=\"color: #FF0000; text-decoration: line-through;\">[</span><span style=\"color: #FF0000; text-decoration: line-through;\">0</span><span style=\"color: #FF0000; text-decoration: line-through;\">0</span><span style=\"color: #FF0000; text-decoration: line-through;\">5</span><span style=\"color: #FF0000; text-decoration: line-through;\">7</span>5<span style=\"color: #FF0000; text-decoration: line-through;\">0</span><span style=\"color: #FF0000; text-decoration: line-through;\">8</span><span style=\"color: #FF0000; text-decoration: line-through;\">4</span><span style=\"color: #FF0000; text-decoration: line-through;\">]</span><span style=\"color: #FF0000; text-decoration: line-through;\">+</span><span style=\"color: #FF0000; text-decoration: line-through;\">0</span><span style=\"color: #FF0000; text-decoration: line-through;\">0</span>00000<span style=\"color: #FF0000; text-decoration: line-through;\">5</span><span style=\"color: #FF0000; text-decoration: line-through;\">4</span><span style=\"color: #FF0000; text-decoration: line-through;\">[</span><span style=\"color: #FF0000; text-decoration: line-through;\">0</span><span style=\"color: #FF0000; text-decoration: line-through;\">0</span><span style=\"color: #FF0000; text-decoration: line-through;\">5</span><span style=\"color: #FF0000; text-decoration: line-through;\">7</span>5<span style=\"color: #FF0000; text-decoration: line-through;\">0</span><span style=\"color: #FF0000; text-decoration: line-through;\">8</span><span style=\"color: #FF0000; text-decoration: line-through;\">9</span><span style=\"color: #FF0000; text-decoration: line-through;\">4</span><span style=\"color: #FF0000; text-decoration: line-through;\">]</span><span style=\"color: #FF0000; text-decoration: line-through;\">=</span><span style=\"color: #FF0000; text-decoration: line-through;\">4</span><span style=\"color: #FF0000; text-decoration: line-through;\">9</span><span style=\"color: #FF0000; text-decoration: line-through;\">8</span><span style=\"color: #FF0000; text-decoration: line-through;\">0</span><span style=\"color: #FF0000; text-decoration: line-through;\">5</span><span style=\"color: #FF0000; text-decoration: line-through;\">7</span><span style=\"color: #FF0000; text-decoration: line-through;\">5</span><span style=\"color: #FF0000; text-decoration: line-through;\">0</span><span style=\"color: #FF0000; text-decoration: line-through;\">0</span><span style=\"color: #FF0000; text-decoration: line-through;\"> </span><span style=\"color: #FF0000; text-decoration: line-through;\"> </span>                                         </pre></div>"
      ],
      "text/plain": [
       "<IPython.core.display.HTML object>"
      ]
     },
     "metadata": {},
     "output_type": "display_data"
    },
    {
     "name": "stdout",
     "output_type": "stream",
     "text": [
      "Incorrect:     651016*15=09[09]+051[042]+0[042]+00051[04251]+000057[042567]+0000009[0425679]=9765240                                                                     \n"
     ]
    },
    {
     "data": {
      "text/html": [
       "<div style=\"margin-left: 20px;\"><pre>Target:     651016*15=09[09]+051[042]+0[042]+00051[04251]+000057[042567]+0000009[0425679]=9765240                                                                     </pre></div>"
      ],
      "text/plain": [
       "<IPython.core.display.HTML object>"
      ]
     },
     "metadata": {},
     "output_type": "display_data"
    },
    {
     "data": {
      "text/html": [
       "<div style=\"margin-left: 20px;\"><pre>Output:     651016*15=09[0<span style=\"color: #FF0000; text-decoration: line-through;\">]</span><span style=\"color: #FF0000; text-decoration: line-through;\">+</span><span style=\"color: #FF0000; text-decoration: line-through;\">0</span><span style=\"color: #FF0000; text-decoration: line-through;\">1</span><span style=\"color: #FF0000; text-decoration: line-through;\">1</span><span style=\"color: #FF0000; text-decoration: line-through;\">[</span><span style=\"color: #FF0000; text-decoration: line-through;\">0</span>0<span style=\"color: #FF0000; text-decoration: line-through;\">2</span><span style=\"color: #FF0000; text-decoration: line-through;\">1</span>]+0<span style=\"color: #FF0000; text-decoration: line-through;\">0</span>0<span style=\"color: #FF0000; text-decoration: line-through;\">9</span><span style=\"color: #FF0000; text-decoration: line-through;\">[</span><span style=\"color: #FF0000; text-decoration: line-through;\">0</span><span style=\"color: #FF0000; text-decoration: line-through;\">0</span><span style=\"color: #FF0000; text-decoration: line-through;\">2</span>0<span style=\"color: #FF0000; text-decoration: line-through;\">1</span><span style=\"color: #FF0000; text-decoration: line-through;\">]</span><span style=\"color: #FF0000; text-decoration: line-through;\">+</span><span style=\"color: #FF0000; text-decoration: line-through;\">0</span>0<span style=\"color: #FF0000; text-decoration: line-through;\">0</span><span style=\"color: #FF0000; text-decoration: line-through;\">5</span><span style=\"color: #FF0000; text-decoration: line-through;\">7</span><span style=\"color: #FF0000; text-decoration: line-through;\">[</span><span style=\"color: #FF0000; text-decoration: line-through;\">0</span><span style=\"color: #FF0000; text-decoration: line-through;\">0</span><span style=\"color: #FF0000; text-decoration: line-through;\">2</span><span style=\"color: #FF0000; text-decoration: line-through;\">5</span><span style=\"color: #FF0000; text-decoration: line-through;\">8</span><span style=\"color: #FF0000; text-decoration: line-through;\">]</span><span style=\"color: #FF0000; text-decoration: line-through;\">+</span><span style=\"color: #FF0000; text-decoration: line-through;\">0</span><span style=\"color: #FF0000; text-decoration: line-through;\">0</span>0<span style=\"color: #FF0000; text-decoration: line-through;\">0</span><span style=\"color: #FF0000; text-decoration: line-through;\">0</span><span style=\"color: #FF0000; text-decoration: line-through;\">9</span><span style=\"color: #FF0000; text-decoration: line-through;\">[</span><span style=\"color: #FF0000; text-decoration: line-through;\">0</span><span style=\"color: #FF0000; text-decoration: line-through;\">0</span><span style=\"color: #FF0000; text-decoration: line-through;\">2</span><span style=\"color: #FF0000; text-decoration: line-through;\">5</span><span style=\"color: #FF0000; text-decoration: line-through;\">8</span><span style=\"color: #FF0000; text-decoration: line-through;\">9</span><span style=\"color: #FF0000; text-decoration: line-through;\">]</span><span style=\"color: #FF0000; text-decoration: line-through;\">+</span>0<span style=\"color: #FF0000; text-decoration: line-through;\">0</span><span style=\"color: #FF0000; text-decoration: line-through;\">0</span>0<span style=\"color: #FF0000; text-decoration: line-through;\">0</span><span style=\"color: #FF0000; text-decoration: line-through;\">0</span><span style=\"color: #FF0000; text-decoration: line-through;\">9</span><span style=\"color: #FF0000; text-decoration: line-through;\">[</span><span style=\"color: #FF0000; text-decoration: line-through;\">0</span><span style=\"color: #FF0000; text-decoration: line-through;\">0</span><span style=\"color: #FF0000; text-decoration: line-through;\">2</span><span style=\"color: #FF0000; text-decoration: line-through;\">5</span><span style=\"color: #FF0000; text-decoration: line-through;\">8</span><span style=\"color: #FF0000; text-decoration: line-through;\">9</span><span style=\"color: #FF0000; text-decoration: line-through;\">9</span><span style=\"color: #FF0000; text-decoration: line-through;\">]</span><span style=\"color: #FF0000; text-decoration: line-through;\">=</span><span style=\"color: #FF0000; text-decoration: line-through;\">9</span><span style=\"color: #FF0000; text-decoration: line-through;\">9</span><span style=\"color: #FF0000; text-decoration: line-through;\">8</span><span style=\"color: #FF0000; text-decoration: line-through;\">8</span><span style=\"color: #FF0000; text-decoration: line-through;\">5</span><span style=\"color: #FF0000; text-decoration: line-through;\">2</span><span style=\"color: #FF0000; text-decoration: line-through;\">0</span>                                                                </pre></div>"
      ],
      "text/plain": [
       "<IPython.core.display.HTML object>"
      ]
     },
     "metadata": {},
     "output_type": "display_data"
    },
    {
     "name": "stdout",
     "output_type": "stream",
     "text": [
      "================================================================================\n",
      "\n",
      "\n",
      "\n"
     ]
    }
   ],
   "source": [
    "for max_digits in [3, 6]:\n",
    "    for sum_cot in [False, True]:\n",
    "        for reverse_cot in [False, True]:\n",
    "            print(\"=\" * 80)\n",
    "            print(f\"{max_digits=}, {sum_cot=}, {reverse_cot=}\")\n",
    "            print(\"=\" * 80)\n",
    "\n",
    "            random.seed(42)\n",
    "            prompt_length = 2 * max_digits + 2\n",
    "\n",
    "            # ***************************************************\n",
    "            # INSERT YOUR CODE HERE\n",
    "            # TODO: Generate the training and validation datasets\n",
    "            train_data, val_data = generate_dataset(max_digits=max_digits, sum_cot=sum_cot, reverse_cot=reverse_cot)\n",
    "            # TODO: Pad the sequences in the resulting datasets\n",
    "            train_data, val_data = pad_datasets(train_data, val_data)\n",
    "            # TODO: Tokanize the results to obtain the final train/val data\n",
    "            train_data = tokenize(train_data)\n",
    "            val_data = tokenize(val_data)\n",
    "            # ***************************************************\n",
    "            # raise NotImplementedError\n",
    "\n",
    "            print(\"===== Training =====\")\n",
    "            block_size = len(train_data[0]) - 1\n",
    "            # ***************************************************\n",
    "            # INSERT YOUR CODE HERE\n",
    "            # TODO: Train a model, saving the resulting model\n",
    "            model = train_model(train_data, val_data, prompt_length, block_size)\n",
    "            # ***************************************************\n",
    "            # raise NotImplementedError\n",
    "\n",
    "            print(\"\\n\\n===== Evaluation =====\")\n",
    "            # ***************************************************\n",
    "            # INSERT YOUR CODE HERE\n",
    "            # TODO: Evaluate the model generation\n",
    "            evaluate_model_generation(model, val_data)\n",
    "            # ***************************************************\n",
    "            # raise NotImplementedError\n",
    "\n",
    "            print(\"=\" * 80)\n",
    "            print(\"\\n\\n\")"
   ]
  },
  {
   "cell_type": "code",
   "execution_count": 7,
   "metadata": {},
   "outputs": [
    {
     "data": {
      "text/plain": [
       "['132*268=35376',\n",
       " '684*781=534204',\n",
       " '627*247=154869',\n",
       " '785*833=653905',\n",
       " ' 585*21=12285',\n",
       " '394*453=178482',\n",
       " '  3*797=2391',\n",
       " '894*776=693744',\n",
       " ' 488*88=42944',\n",
       " '154*966=148764',\n",
       " '302*864=260928',\n",
       " '589*894=526566',\n",
       " ' 923*16=14768',\n",
       " '300*791=237300',\n",
       " '929*962=893698',\n",
       " ' 867*84=72828',\n",
       " '542*324=175608',\n",
       " '244*859=209596',\n",
       " '247*376=92872',\n",
       " '385*340=130900',\n",
       " '739*838=619282',\n",
       " '830*202=167660',\n",
       " '166*976=162016',\n",
       " '546*443=241878',\n",
       " '885*663=586755',\n",
       " ' 145*99=14355',\n",
       " '637*561=357357',\n",
       " ' 539*26=14014',\n",
       " ' 580*27=15660',\n",
       " '296*268=79328',\n",
       " '205*904=185320',\n",
       " ' 12*509=6108',\n",
       " '981*371=363951',\n",
       " '413*853=352289',\n",
       " '848*781=662288',\n",
       " '884*438=387192',\n",
       " '139*284=39476',\n",
       " ' 920*95=87400',\n",
       " '600*679=407400',\n",
       " '259*386=99974',\n",
       " ' 918*22=20196',\n",
       " '639*607=387873',\n",
       " ' 66*745=49170',\n",
       " ' 592*37=21904',\n",
       " '695*916=636620',\n",
       " '349*279=97371',\n",
       " '445*741=329745',\n",
       " '156*638=99528',\n",
       " '257*690=177330',\n",
       " '935*376=351560',\n",
       " '348*808=281184',\n",
       " '398*171=68058',\n",
       " '747*325=242775',\n",
       " ' 67*566=37922',\n",
       " '838*443=371234',\n",
       " ' 22*823=18106',\n",
       " '457*751=343207',\n",
       " '405*561=227205',\n",
       " '  4*217=868',\n",
       " '214*993=212502',\n",
       " '116*458=53128',\n",
       " '501*269=134769',\n",
       " '840*489=410760',\n",
       " ' 983*43=42269',\n",
       " '272*971=264112',\n",
       " ' 55*182=10010',\n",
       " '454*453=205662',\n",
       " '266*402=106932',\n",
       " '799*865=691135',\n",
       " '701*330=231330',\n",
       " '305*330=100650',\n",
       " '260*587=152620',\n",
       " ' 203*53=10759',\n",
       " '356*295=105020',\n",
       " '304*105=31920',\n",
       " '760*910=691600',\n",
       " '111*464=51504',\n",
       " '106*120=12720',\n",
       " '850*803=682550',\n",
       " '160*356=56960',\n",
       " '946*511=483406',\n",
       " '944*438=413472',\n",
       " '701*680=476680',\n",
       " '407*233=94831',\n",
       " '756*387=292572',\n",
       " '849*578=490722',\n",
       " '472*628=296416',\n",
       " '883*162=143046',\n",
       " '599*403=241397',\n",
       " '654*110=71940',\n",
       " '375*695=260625',\n",
       " ' 693*38=26334',\n",
       " '942*742=698964',\n",
       " '364*536=195104',\n",
       " '410*881=361210',\n",
       " '  348*3=1044',\n",
       " ' 28*587=16436',\n",
       " '470*932=438040',\n",
       " ' 23*243=5589',\n",
       " '468*859=402012',\n",
       " '808*927=749016',\n",
       " '472*978=461616',\n",
       " '897*218=195546',\n",
       " '274*993=272082',\n",
       " '998*270=269460',\n",
       " '370*701=259370',\n",
       " '313*167=52271',\n",
       " ' 29*408=11832',\n",
       " '805*629=506345',\n",
       " '617*578=356626',\n",
       " '175*233=40775',\n",
       " '763*403=307489',\n",
       " '135*834=112590',\n",
       " '119*301=35819',\n",
       " '611*763=466193',\n",
       " '661*126=83286',\n",
       " '989*157=155273',\n",
       " '858*640=549120',\n",
       " '574*881=505694',\n",
       " '569*537=305553',\n",
       " '132*536=70752',\n",
       " '233*588=137004',\n",
       " '816*414=337824',\n",
       " ' 35*603=21105',\n",
       " '100*998=99800',\n",
       " '477*948=452196',\n",
       " '912*876=798912',\n",
       " ' 39*722=28158',\n",
       " '717*408=292536',\n",
       " '224*475=106400',\n",
       " '320*183=58560',\n",
       " '867*352=305184',\n",
       " '127*542=68834',\n",
       " '588*937=550956',\n",
       " ' 526*59=31034',\n",
       " '  903*9=8127',\n",
       " '911*624=568464',\n",
       " '247*644=159068',\n",
       " '619*250=154750',\n",
       " '182*249=45318',\n",
       " '314*368=115552',\n",
       " '187*593=110891',\n",
       " '150*711=106650',\n",
       " '621*296=183816',\n",
       " '342*881=301302',\n",
       " '  280*3=840',\n",
       " '772*465=358980',\n",
       " '808*122=98576',\n",
       " ' 92*706=64952',\n",
       " '331*722=238982',\n",
       " '482*137=66034',\n",
       " '826*701=579026',\n",
       " '922*409=377098',\n",
       " '578*599=346222',\n",
       " ' 917*65=59605',\n",
       " '247*994=245518',\n",
       " '237*306=72522',\n",
       " '927*753=698031',\n",
       " '385*958=368830',\n",
       " '825*476=392700',\n",
       " '830*820=680600',\n",
       " '140*373=52220',\n",
       " ' 135*29=3915',\n",
       " '632*835=527720',\n",
       " '575*301=173075',\n",
       " '728*543=395304',\n",
       " '  234*8=1872',\n",
       " '291*542=157722',\n",
       " '762*127=96774',\n",
       " '483*712=343896',\n",
       " '538*419=225422',\n",
       " '918*640=587520',\n",
       " '238*127=30226',\n",
       " '482*487=234734',\n",
       " '821*707=580447',\n",
       " ' 912*71=64752',\n",
       " '248*845=209560',\n",
       " '597*999=596403',\n",
       " '201*999=200799',\n",
       " '289*846=244494',\n",
       " '573*605=346665',\n",
       " '292*363=105996',\n",
       " '667*240=160080',\n",
       " '383*481=184223',\n",
       " '727*291=211557',\n",
       " '815*138=112470',\n",
       " '135*379=51165',\n",
       " '252*964=242928',\n",
       " '935*994=929390',\n",
       " '966*307=296562',\n",
       " '200*774=154800',\n",
       " '589*357=210273',\n",
       " ' 190*86=16340',\n",
       " '747*943=704421',\n",
       " ' 98*497=48706',\n",
       " '929*425=394825',\n",
       " '623*318=198114',\n",
       " '339*559=189501',\n",
       " '688*713=490544',\n",
       " '399*610=243390',\n",
       " '  3*610=1830',\n",
       " ' 342*76=25992',\n",
       " '490*728=356720',\n",
       " '584*363=211992',\n",
       " '742*949=704158',\n",
       " '797*656=522832',\n",
       " ' 57*846=48222',\n",
       " '492*774=380808',\n",
       " '542*137=74254',\n",
       " '455*892=405860',\n",
       " '882*205=180810',\n",
       " '598*446=266708',\n",
       " '546*256=139776',\n",
       " '106*738=78228',\n",
       " '577*323=186371',\n",
       " '981*184=180504',\n",
       " '697*425=296225',\n",
       " ' 296*81=23976',\n",
       " '790*616=486640',\n",
       " ' 692*81=56052',\n",
       " '793*887=703391',\n",
       " '108*784=84672',\n",
       " '447*250=111750',\n",
       " '595*148=88060',\n",
       " '199*148=29452',\n",
       " '639*420=268380',\n",
       " '355*661=234655',\n",
       " '792*662=524304',\n",
       " '537*143=76791',\n",
       " '602*538=323876',\n",
       " '258*728=187824',\n",
       " '313*435=136155',\n",
       " '406*626=254156',\n",
       " ' 10*626=6260',\n",
       " '846*898=759708',\n",
       " '409*897=366873',\n",
       " '906*949=859794',\n",
       " '510*949=483990',\n",
       " '901*605=545105',\n",
       " '156*451=70356',\n",
       " '596*723=430908',\n",
       " '348*621=216108',\n",
       " ' 687*87=59769',\n",
       " '408*672=274176',\n",
       " '499*790=394210',\n",
       " '213*204=43452',\n",
       " '655*549=359595',\n",
       " ' 27*980=26460',\n",
       " '686*616=422576',\n",
       " ' 56*220=12320',\n",
       " '998*888=886224',\n",
       " '308*441=135828',\n",
       " ' 798*76=60648',\n",
       " '151*457=69007',\n",
       " '459*610=279990',\n",
       " '211*508=107188',\n",
       " ' 18*867=15606',\n",
       " '  16*40=640',\n",
       " '802*949=761098',\n",
       " '174*626=108924',\n",
       " '833*262=218246',\n",
       " '945*503=475335',\n",
       " '614*898=551372',\n",
       " ' 948*20=18960',\n",
       " ' 22*986=21692',\n",
       " '366*796=291336',\n",
       " '736*329=242144',\n",
       " ' 791*36=28476',\n",
       " '913*965=881045',\n",
       " ' 851*87=74037',\n",
       " '512*621=317952',\n",
       " '228*862=196536',\n",
       " '460*431=198260',\n",
       " '983*206=202498',\n",
       " '663*790=523770',\n",
       " '262*446=116852',\n",
       " '415*688=285520',\n",
       " '131*929=121699',\n",
       " '855*960=820800',\n",
       " ' 110*52=5720',\n",
       " '454*616=279664',\n",
       " '449*272=122128',\n",
       " '261*221=57681',\n",
       " ' 68*580=39440',\n",
       " '756*200=151200',\n",
       " '123*287=35301',\n",
       " '472*441=208152',\n",
       " '169*632=106808',\n",
       " '995*216=214920',\n",
       " '260*750=195000',\n",
       " '315*457=143955',\n",
       " '375*508=190500',\n",
       " '698*195=136110',\n",
       " '414*436=180504',\n",
       " ' 70*626=43820',\n",
       " '562*334=187708',\n",
       " '166*334=55444',\n",
       " '997*262=261214',\n",
       " '601*262=157462',\n",
       " '369*693=255717',\n",
       " '126*935=117810',\n",
       " '564*380=214320',\n",
       " '373*812=302876',\n",
       " '316*278=87848',\n",
       " '178*344=61232',\n",
       " '954*565=539010',\n",
       " '  173*0=0',\n",
       " '670*806=540020',\n",
       " '766*514=393724',\n",
       " ' 29*221=6409',\n",
       " '764*441=336924',\n",
       " '805*442=355810',\n",
       " '141*462=65142',\n",
       " '667*508=338836',\n",
       " '708*509=360372',\n",
       " '703*165=115995',\n",
       " '326*215=70090',\n",
       " '  18*62=1116',\n",
       " '773*904=698792',\n",
       " '854*334=285236',\n",
       " '919*729=669951',\n",
       " '666*283=188478',\n",
       " '382*524=200168',\n",
       " '421*452=190292',\n",
       " '913*160=146080',\n",
       " ' 911*87=79257',\n",
       " '608*278=169024',\n",
       " '379*226=85654',\n",
       " ' 76*417=31692',\n",
       " '819*498=407862',\n",
       " '967*396=382932',\n",
       " '571*396=226116',\n",
       " '292*981=286452',\n",
       " '230*103=23690',\n",
       " '758*222=168276',\n",
       " '469*119=55811',\n",
       " '534*514=274476',\n",
       " '570*925=527250',\n",
       " '377*530=199810',\n",
       " '187*406=75922',\n",
       " ' 223*63=14049',\n",
       " ' 718*42=30156',\n",
       " '926*745=689870',\n",
       " ' 561*58=32538',\n",
       " '673*299=201227',\n",
       " '678*643=435954',\n",
       " '246*986=242556',\n",
       " '391*586=229126',\n",
       " '961*150=144150',\n",
       " '734*925=678950',\n",
       " '297*170=50490',\n",
       " ' 773*99=76527',\n",
       " '546*874=477204',\n",
       " '767*284=217828',\n",
       " '488*869=424072',\n",
       " '636*767=487812',\n",
       " '  6*371=2226',\n",
       " '386*592=228512',\n",
       " ' 97*489=47433',\n",
       " '157*540=84780',\n",
       " '105*350=36750',\n",
       " '537*761=408657',\n",
       " '592*468=277056',\n",
       " '729*931=678699',\n",
       " ' 63*878=55314',\n",
       " '443*345=152835',\n",
       " '159*586=93174',\n",
       " '250*704=176000',\n",
       " '403*946=381238',\n",
       " ' 382*69=26358',\n",
       " '463*997=461611',\n",
       " '492*237=116604',\n",
       " '189*428=80892',\n",
       " '309*530=163770',\n",
       " '340*597=202980',\n",
       " '400*648=259200',\n",
       " '780*115=89700',\n",
       " '157*890=139730',\n",
       " ' 491*12=5892',\n",
       " '501*700=350700',\n",
       " '243*664=161352',\n",
       " '347*233=80851',\n",
       " '798*694=553812',\n",
       " '149*248=36952',\n",
       " '448*315=141120',\n",
       " ' 57*659=37563',\n",
       " ' 52*315=16380',\n",
       " '492*587=288804',\n",
       " '982*222=218004',\n",
       " '395*654=258330',\n",
       " '166*602=99932',\n",
       " '298*721=214858',\n",
       " '353*428=151084',\n",
       " '886*891=789426',\n",
       " '113*941=106333',\n",
       " ' 884*64=56576',\n",
       " ' 259*12=3108',\n",
       " '352*957=336864',\n",
       " '787*131=103097',\n",
       " '995*834=829830',\n",
       " '654*541=353814',\n",
       " '659*885=583215',\n",
       " '404*366=147864',\n",
       " ' 440*23=10120',\n",
       " '557*608=338656',\n",
       " '937*829=776773',\n",
       " '596*536=319456',\n",
       " '  935*2=1870',\n",
       " ' 67*192=12864',\n",
       " '900*947=852300',\n",
       " '494*259=127946',\n",
       " '504*947=477288',\n",
       " '655*362=237110',\n",
       " ' 22*449=9878',\n",
       " '710*823=584330',\n",
       " '118*911=107498',\n",
       " '121*428=51788',\n",
       " '933*306=285498',\n",
       " '993*357=354501',\n",
       " '709*598=423982',\n",
       " '456*152=69312',\n",
       " '800*716=572800',\n",
       " '901*768=691968',\n",
       " '120*957=114840',\n",
       " '607*321=194847',\n",
       " '  930*8=7440',\n",
       " '357*146=52122',\n",
       " ' 73*387=28251',\n",
       " '945*316=298620',\n",
       " '549*316=173484',\n",
       " '736*142=104512',\n",
       " '359*192=68928',\n",
       " '460*244=112240',\n",
       " '116*434=50344',\n",
       " '171*141=24111',\n",
       " ' 606*69=41814',\n",
       " '753*496=373488',\n",
       " '185*978=180930',\n",
       " '164*101=16564',\n",
       " '847*131=110957',\n",
       " '224*906=202944',\n",
       " ' 659*80=52720',\n",
       " '531*834=442854',\n",
       " '130*490=63700',\n",
       " '658*609=400722',\n",
       " '718*660=473880',\n",
       " '369*506=186714',\n",
       " '434*901=391034',\n",
       " '957*676=646932',\n",
       " '561*676=379236',\n",
       " '332*624=207168',\n",
       " '767*552=423384',\n",
       " '371*552=204792',\n",
       " ' 710*18=12780',\n",
       " '524*794=416056',\n",
       " '188*845=158860',\n",
       " '516*152=78432',\n",
       " '424*563=238712',\n",
       " '861*564=485604',\n",
       " ' 823*80=65840',\n",
       " '919*542=498098',\n",
       " '822*609=500598',\n",
       " '132*162=21384',\n",
       " '579*851=492729',\n",
       " '  6*989=5934',\n",
       " '288*675=194400',\n",
       " ' 76*230=17480',\n",
       " '105*968=101640',\n",
       " '475*501=237975',\n",
       " '623*399=248577',\n",
       " '383*912=349296',\n",
       " '815*569=463735',\n",
       " '443*963=426609',\n",
       " ' 42*619=25998',\n",
       " '479*620=296980',\n",
       " '224*101=22624',\n",
       " '721*153=110313',\n",
       " '476*322=153272',\n",
       " '911*250=227750',\n",
       " '439*440=193160',\n",
       " '866*507=439062',\n",
       " '236*111=26196',\n",
       " '347*851=295297',\n",
       " '717*384=275328',\n",
       " '149*866=129034',\n",
       " '493*676=333268',\n",
       " '204*573=116892',\n",
       " '209*917=191653',\n",
       " '331*348=115188',\n",
       " '  0*743=0',\n",
       " '432*400=172800',\n",
       " '112*984=110208',\n",
       " '294*466=137004',\n",
       " '242*276=66792',\n",
       " '677*204=138108',\n",
       " '825*102=84150',\n",
       " '491*980=481180',\n",
       " '197*533=105001',\n",
       " '921*564=519444',\n",
       " '257*584=150088',\n",
       " '637*805=512785',\n",
       " '293*995=291535',\n",
       " '884*682=602888',\n",
       " '920*339=311880',\n",
       " '199*579=115221',\n",
       " '204*923=188292',\n",
       " ' 579*46=26634',\n",
       " '735*559=410865',\n",
       " '441*112=49392',\n",
       " '482*113=54466',\n",
       " '157*353=55421',\n",
       " '  9*455=4095',\n",
       " '532*230=122360',\n",
       " ' 936*91=85176',\n",
       " '882*986=869652',\n",
       " '779*107=83353',\n",
       " '159*399=63441',\n",
       " ' 195*56=10920',\n",
       " '971*277=268967',\n",
       " ' 154*55=8470',\n",
       " '747*569=425043',\n",
       " '833*343=285719',\n",
       " '116*702=81432',\n",
       " '553*703=388759',\n",
       " '212*410=86920',\n",
       " '839*508=426212',\n",
       " '  89*10=890',\n",
       " '550*405=222750',\n",
       " '271*990=268290',\n",
       " '302*303=91506',\n",
       " '641*523=335243',\n",
       " '706*918=648108',\n",
       " '357*764=272748',\n",
       " '737*231=170247',\n",
       " ' 883*56=49448',\n",
       " '984*108=106272',\n",
       " '203*297=60291',\n",
       " '796*811=645556',\n",
       " '791*467=369397',\n",
       " '264*950=250800',\n",
       " '694*534=370596',\n",
       " '986*154=151844',\n",
       " '759*929=705111',\n",
       " ' 697*51=35547',\n",
       " '  637*0=0',\n",
       " '601*343=206143',\n",
       " '504*410=206640',\n",
       " '889*221=196469',\n",
       " '849*822=697878',\n",
       " ' 11*477=5247',\n",
       " '355*287=101885',\n",
       " ' 878*62=54436',\n",
       " '198*303=59994',\n",
       " '375*939=352125',\n",
       " '810*867=702270',\n",
       " '510*575=293250',\n",
       " '937*642=601554',\n",
       " '166*765=126990',\n",
       " '754*935=704990',\n",
       " ' 651*56=36456',\n",
       " '348*247=85956',\n",
       " '895*416=372320',\n",
       " ' 494*72=35568',\n",
       " '554*123=68142',\n",
       " '655*175=114625',\n",
       " ' 27*606=16362',\n",
       " '751*637=478387',\n",
       " '  842*1=842',\n",
       " '522*585=305370',\n",
       " '608*359=218272',\n",
       " ' 704*67=47168',\n",
       " '764*872=666208',\n",
       " '141*893=125913',\n",
       " '748*339=253572',\n",
       " '836*186=155496',\n",
       " '896*237=212352',\n",
       " '901*581=523481',\n",
       " '  79*15=1185',\n",
       " '706*113=79778',\n",
       " '802*575=461150',\n",
       " '325*421=136825',\n",
       " ' 460*57=26220',\n",
       " '264*145=38280',\n",
       " '506*432=218592',\n",
       " '282*724=204168',\n",
       " '133*601=79933',\n",
       " '620*719=445780',\n",
       " '224*719=161056',\n",
       " '284*770=218680',\n",
       " '619*494=305786',\n",
       " '911*868=790748',\n",
       " '283*545=154235',\n",
       " '770*663=510510',\n",
       " '374*663=247962',\n",
       " '718*473=339614',\n",
       " ' 33*370=12210',\n",
       " '525*832=436800',\n",
       " '179*195=34905',\n",
       " '  564*6=3384',\n",
       " '899*484=435116',\n",
       " '954*191=182214',\n",
       " ' 238*21=4998',\n",
       " '  902*1=902',\n",
       " '274*432=118368',\n",
       " '329*139=45731',\n",
       " '  81*37=2997',\n",
       " '573*499=285927',\n",
       " '177*499=88323',\n",
       " ' 576*16=9216',\n",
       " '232*206=47792',\n",
       " '677*822=556494',\n",
       " '708*135=95580',\n",
       " '481*910=437710',\n",
       " '424*376=159424',\n",
       " ' 419*32=13408',\n",
       " '861*377=324597',\n",
       " '  23*32=736',\n",
       " '489*771=377019',\n",
       " '234*252=58968',\n",
       " ' 43*684=29412',\n",
       " '392*838=328496',\n",
       " '103*735=75705',\n",
       " '483*956=461748',\n",
       " ' 82*612=50184',\n",
       " '538*663=356694',\n",
       " '137*319=43703',\n",
       " '629*781=491249',\n",
       " '288*488=140544',\n",
       " '  76*43=3268',\n",
       " '972*366=355752',\n",
       " '719*674=484606',\n",
       " '  3*504=1512',\n",
       " '435*915=398025',\n",
       " '727*535=388945',\n",
       " '190*330=62700',\n",
       " ' 909*17=15453',\n",
       " '589*601=353989',\n",
       " '229*258=59082',\n",
       " ' 57*740=42180',\n",
       " ' 93*397=36921',\n",
       " '492*668=328656',\n",
       " '189*859=162351',\n",
       " '970*670=649900',\n",
       " '973*941=915593',\n",
       " '674*150=101100',\n",
       " '679*494=335426',\n",
       " '715*151=107965',\n",
       " '720*495=356400',\n",
       " '  30*48=1440',\n",
       " '147*633=93051',\n",
       " '642*612=392904',\n",
       " '688*957=658416',\n",
       " '490*972=476280',\n",
       " ' 824*94=77456',\n",
       " '777*248=192696',\n",
       " '488*145=70760',\n",
       " '584*607=354488',\n",
       " ' 964*74=71336',\n",
       " ' 47*402=18894',\n",
       " '883*674=595142',\n",
       " '695*623=432985',\n",
       " '982*653=641246',\n",
       " '674*500=337000',\n",
       " '698*894=624012',\n",
       " '445*448=199360',\n",
       " '109*499=54391',\n",
       " '104*155=16120',\n",
       " '293*808=236744',\n",
       " '697*669=466293',\n",
       " '790*860=679400',\n",
       " '692*325=224900',\n",
       " '  7*222=1554',\n",
       " '139*341=47399',\n",
       " '595*392=233240',\n",
       " ' 194*48=9312',\n",
       " '600*736=441600',\n",
       " '204*736=150144',\n",
       " '350*561=196350',\n",
       " '503*803=403909',\n",
       " ' 97*115=11155',\n",
       " '157*166=26062',\n",
       " '841*798=671118',\n",
       " '440*454=199760',\n",
       " '257*747=191979',\n",
       " ' 930*89=82770',\n",
       " '307*864=265248',\n",
       " '  7*572=4004',\n",
       " '  2*228=456',\n",
       " '351*382=134082',\n",
       " '442*500=221000',\n",
       " '939*552=518328',\n",
       " '655*793=519415',\n",
       " '366*690=252540',\n",
       " ' 61*808=49288',\n",
       " '121*859=103939',\n",
       " '892*736=656512',\n",
       " '212*223=47276',\n",
       " '652*495=322740',\n",
       " ' 19*582=11058',\n",
       " ' 60*583=34980',\n",
       " '836*804=672144',\n",
       " '795*803=638385',\n",
       " ' 24*926=22224',\n",
       " '891*511=455301',\n",
       " '646*680=439280',\n",
       " '799*922=736678',\n",
       " '463*973=450499',\n",
       " '549*747=410103',\n",
       " '208*454=94432',\n",
       " '640*111=71040',\n",
       " '801*968=775368',\n",
       " ' 70*520=36400',\n",
       " '512*865=442880',\n",
       " '702*208=146016',\n",
       " '850*860=731000',\n",
       " '110*296=32560',\n",
       " '944*495=467280',\n",
       " '660*736=485760',\n",
       " '352*583=205216',\n",
       " '849*635=539115',\n",
       " '355*100=35500',\n",
       " '188*926=174088',\n",
       " '847*562=476014',\n",
       " '948*614=582072',\n",
       " '599*460=275540',\n",
       " '659*511=336749',\n",
       " '411*409=168099',\n",
       " '526*921=484446',\n",
       " '653*696=454488',\n",
       " '754*748=563992',\n",
       " '465*645=299925',\n",
       " ' 28*644=18032',\n",
       " '804*111=89244',\n",
       " '905*917=829885',\n",
       " '900*573=515700',\n",
       " '215*470=101050',\n",
       " '270*177=47790',\n",
       " '280*865=242200',\n",
       " '808*984=795072',\n",
       " ' 82*880=72160',\n",
       " '522*398=207756',\n",
       " '183*932=170556',\n",
       " '219*589=128991',\n",
       " '329*757=249053',\n",
       " ' 86*999=85914',\n",
       " '464*393=182352',\n",
       " '232*824=191168',\n",
       " '175*290=50750',\n",
       " '120*583=69960',\n",
       " '768*804=617472',\n",
       " '861*995=856695',\n",
       " '705*455=320775',\n",
       " '416*352=146432',\n",
       " '  452*9=4068',\n",
       " ' 512*60=30720',\n",
       " ' 314*75=23550',\n",
       " '267*229=61143',\n",
       " '324*763=247212',\n",
       " ' 35*660=23100',\n",
       " '761*764=581404',\n",
       " ' 79*178=14062',\n",
       " ' 850*55=46750',\n",
       " '571*640=365440',\n",
       " '  225*3=675',\n",
       " '469*363=170247',\n",
       " '565*825=466125',\n",
       " '914*979=894806',\n",
       " '568*342=194256',\n",
       " '437*825=360525',\n",
       " '588*994=584472',\n",
       " '192*994=190848',\n",
       " '130*116=15080',\n",
       " '911*681=620391',\n",
       " ' 278*14=3892',\n",
       " '622*578=359516',\n",
       " ' 961*44=42284',\n",
       " '374*476=178024',\n",
       " '369*132=48708',\n",
       " '434*527=228718',\n",
       " ' 33*183=6039',\n",
       " '809*404=326836',\n",
       " ' 181*81=14661',\n",
       " '561*302=169422',\n",
       " '342*938=320796',\n",
       " ' 280*60=16800',\n",
       " '529*764=404156',\n",
       " ' 26*143=3718',\n",
       " ' 50*537=26850',\n",
       " '826*758=626108',\n",
       " '480*121=58080',\n",
       " ' 273*20=5460',\n",
       " '825*533=439725',\n",
       " '921*995=916395',\n",
       " '286*255=72930',\n",
       " '920*770=708400',\n",
       " '137*132=18084',\n",
       " '634*938=594692',\n",
       " '436*199=86764',\n",
       " '193*441=85113',\n",
       " '871*127=110617',\n",
       " '344*610=209840',\n",
       " '719*487=350153',\n",
       " ' 823*56=46088',\n",
       " '591*487=287817',\n",
       " '200*831=166200',\n",
       " '742*656=486752',\n",
       " ' 63*393=24759',\n",
       " '497*825=410025',\n",
       " ' 963*66=63558',\n",
       " '684*651=445284',\n",
       " '931*528=491568',\n",
       " '986*235=231710',\n",
       " '683*426=290958',\n",
       " ' 241*81=19521',\n",
       " '110*564=62040',\n",
       " '870*252=219240',\n",
       " '680*128=87040',\n",
       " ' 391*25=9775',\n",
       " '117*954=111618',\n",
       " '354*143=50622',\n",
       " '674*313=210962',\n",
       " '794*415=329510',\n",
       " '197*159=31323',\n",
       " '921*190=174990',\n",
       " '702*826=579852',\n",
       " '793*944=748592',\n",
       " '504*841=423864',\n",
       " '316*790=249640',\n",
       " '448*909=407232',\n",
       " '787*375=295125',\n",
       " '998*595=593810',\n",
       " '406*683=277298',\n",
       " '349*149=52001',\n",
       " '409*954=390186',\n",
       " '836*267=223212',\n",
       " '557*852=474564',\n",
       " '940*590=554600',\n",
       " '250*143=35750',\n",
       " ' 64*919=58816',\n",
       " '747*195=145665',\n",
       " '  7*385=2695',\n",
       " '  62*92=5704',\n",
       " '939*365=342735',\n",
       " '163*898=146374',\n",
       " '366*503=184098',\n",
       " '248*447=110856',\n",
       " '740*155=114700',\n",
       " '303*154=46662',\n",
       " '706*544=384064',\n",
       " '701*200=140200',\n",
       " '398*391=155618',\n",
       " '114*632=72048',\n",
       " '  57*98=5586',\n",
       " '174*683=118842',\n",
       " '893*370=330410',\n",
       " '614*955=586370',\n",
       " '760*780=592800',\n",
       " '801*781=625581',\n",
       " '168*868=145824',\n",
       " '264*576=152064',\n",
       " '663*847=561561',\n",
       " '415*745=309175',\n",
       " ' 74*452=33448',\n",
       " ' 69*108=7452',\n",
       " '850*673=572050',\n",
       " '951*725=689475',\n",
       " ' 11*103=1133',\n",
       " '164*345=56580',\n",
       " '899*565=507935',\n",
       " '563*616=346808',\n",
       " '568*960=545280',\n",
       " '315*514=161910',\n",
       " '807*976=787632',\n",
       " '510*201=102510',\n",
       " '718*904=649072',\n",
       " '713*560=399280',\n",
       " '470*802=376940',\n",
       " '520*919=477880',\n",
       " ' 895*42=37590',\n",
       " ' 499*42=20958',\n",
       " '960*437=419520',\n",
       " '621*971=602991',\n",
       " '220*627=137940',\n",
       " '616*627=386232',\n",
       " '275*334=91850',\n",
       " ' 994*21=20874',\n",
       " '215*283=60845',\n",
       " '868*848=736064',\n",
       " '238*452=107576',\n",
       " '998*140=139720',\n",
       " '177*930=164610',\n",
       " ' 610*31=18910',\n",
       " ' 23*463=10649',\n",
       " '479*514=246206',\n",
       " '515*171=88065',\n",
       " ' 88*858=75504',\n",
       " '802*201=161202',\n",
       " '919*786=722334',\n",
       " ' 513*98=50274',\n",
       " '614*150=92100',\n",
       " '705*268=188940',\n",
       " '329*920=302680',\n",
       " ' 506*58=29348',\n",
       " '967*453=438051',\n",
       " '227*643=145961',\n",
       " '469*176=82544',\n",
       " '620*345=213900',\n",
       " '229*689=157781',\n",
       " '377*587=221299',\n",
       " '715*582=416130',\n",
       " ' 658*48=31584',\n",
       " '775*633=490575',\n",
       " '338*632=213616',\n",
       " '333*288=95904',\n",
       " '126*187=23562',\n",
       " '155*925=143375',\n",
       " '520*114=59280',\n",
       " '962*459=441558',\n",
       " '626*510=319260',\n",
       " '301*750=225750',\n",
       " '433*869=376277',\n",
       " '107*884=94588',\n",
       " '922*279=257238',\n",
       " '177*125=22125',\n",
       " ' 10*951=9510',\n",
       " '825*346=285450',\n",
       " '  861*3=2583',\n",
       " '481*536=257816',\n",
       " ' 484*53=25652',\n",
       " '971*171=166041',\n",
       " '539*514=277046',\n",
       " '392*464=181888',\n",
       " '879*582=511578',\n",
       " '189*135=25515',\n",
       " '259*874=226366',\n",
       " '689*458=315562',\n",
       " ' 436*12=5232',\n",
       " ' 45*356=16020',\n",
       " '  40*12=480',\n",
       " '  4*355=1420',\n",
       " '876*284=248784',\n",
       " '592*525=310800',\n",
       " '196*525=102900',\n",
       " ' 60*664=39840',\n",
       " '724*644=466256',\n",
       " '839*402=337278',\n",
       " '495*592=293040',\n",
       " '560*987=552720',\n",
       " '591*300=177300',\n",
       " '  42*58=2436',\n",
       " '687*762=523494',\n",
       " ' 57*366=20862',\n",
       " '533*295=157235',\n",
       " '  588*2=1176',\n",
       " '304*243=73872',\n",
       " '679*120=81480',\n",
       " '689*808=556712',\n",
       " ' 56*895=50120',\n",
       " '  4*705=2820',\n",
       " '436*362=157832',\n",
       " '157*947=148679',\n",
       " '983*531=521973',\n",
       " '931*341=317471',\n",
       " '988*875=864500',\n",
       " '155*120=18600',\n",
       " ' 986*48=47328',\n",
       " '652*926=603752',\n",
       " '339*429=145431',\n",
       " '251*582=146082',\n",
       " '798*751=599298',\n",
       " ' 245*13=3185',\n",
       " '985*577=568345',\n",
       " '589*577=339853',\n",
       " '300*474=142200',\n",
       " ' 57*716=40812',\n",
       " '833*937=780521',\n",
       " '640*542=346880',\n",
       " '547*351=191997',\n",
       " '984*352=346368',\n",
       " '106*608=64448',\n",
       " ' 486*75=36450',\n",
       " '166*659=109394',\n",
       " '101*264=26664',\n",
       " '546*126=68796',\n",
       " '293*434=127162',\n",
       " '886*948=839928',\n",
       " '504*654=329616',\n",
       " '889*465=413385',\n",
       " '447*120=53640',\n",
       " '261*896=233856',\n",
       " '542*357=193494',\n",
       " '998*408=407184',\n",
       " '217*597=129549',\n",
       " '654*598=391092',\n",
       " '354*306=108324',\n",
       " '  13*13=169',\n",
       " '510*819=417690',\n",
       " '992*593=588256',\n",
       " ' 539*59=31801',\n",
       " '372*885=329220',\n",
       " ...]"
      ]
     },
     "execution_count": 7,
     "metadata": {},
     "output_type": "execute_result"
    }
   ],
   "source": [
    "train"
   ]
  },
  {
   "cell_type": "markdown",
   "metadata": {
    "id": "4aWdsrIpHl-W"
   },
   "source": []
  }
 ],
 "metadata": {
  "accelerator": "GPU",
  "colab": {
   "gpuType": "T4",
   "provenance": []
  },
  "kernelspec": {
   "display_name": "Python 3",
   "name": "python3"
  },
  "language_info": {
   "codemirror_mode": {
    "name": "ipython",
    "version": 3
   },
   "file_extension": ".py",
   "mimetype": "text/x-python",
   "name": "python",
   "nbconvert_exporter": "python",
   "pygments_lexer": "ipython3",
   "version": "3.11.5"
  }
 },
 "nbformat": 4,
 "nbformat_minor": 0
}
